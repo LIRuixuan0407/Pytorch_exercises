{
  "nbformat": 4,
  "nbformat_minor": 0,
  "metadata": {
    "colab": {
      "name": "03_pytorch_computer_vision_exercises.ipynb",
      "provenance": [],
      "gpuType": "T4",
      "include_colab_link": true
    },
    "kernelspec": {
      "name": "python3",
      "display_name": "Python 3"
    },
    "language_info": {
      "name": "python"
    },
    "accelerator": "GPU",
    "widgets": {
      "application/vnd.jupyter.widget-state+json": {
        "9c260b076bd2413888511f3086a49fa3": {
          "model_module": "@jupyter-widgets/controls",
          "model_name": "HBoxModel",
          "model_module_version": "1.5.0",
        },
        "0a2dacfeb8df4679b7d4025d4b6cf177": {
          "model_module": "@jupyter-widgets/controls",
          "model_name": "HTMLModel",
          "model_module_version": "1.5.0",
          "state": {
            "_dom_classes": [],
            "_model_module": "@jupyter-widgets/controls",
            "_model_module_version": "1.5.0",
            "_model_name": "HTMLModel",
            "_view_count": null,
            "_view_module": "@jupyter-widgets/controls",
            "_view_module_version": "1.5.0",
            "_view_name": "HTMLView",
            "description": "",
            "description_tooltip": null,
            "layout": "IPY_MODEL_427ee03143134bcd8e5df7574161ae51",
            "placeholder": "​",
            "style": "IPY_MODEL_49c3e44908684cbeae8caba907fe47ac",
            "value": "100%"
          }
        },
        "b323c501b8bc4bf1aebf04a3bdd80fb1": {
          "model_module": "@jupyter-widgets/controls",
          "model_name": "FloatProgressModel",
          "model_module_version": "1.5.0",
          "state": {
            "_dom_classes": [],
            "_model_module": "@jupyter-widgets/controls",
            "_model_module_version": "1.5.0",
            "_model_name": "FloatProgressModel",
            "_view_count": null,
            "_view_module": "@jupyter-widgets/controls",
            "_view_module_version": "1.5.0",
            "_view_name": "ProgressView",
            "bar_style": "success",
            "description": "",
            "description_tooltip": null,
            "layout": "IPY_MODEL_ab5b3febb0b04e0ab4df916cfc2556f2",
            "max": 5,
            "min": 0,
            "orientation": "horizontal",
            "style": "IPY_MODEL_d6460abc55214ee0bc1253d0d30a51d9",
            "value": 5
          }
        },
        "fabf6b83b68c40e88b552ba59730aaee": {
          "model_module": "@jupyter-widgets/controls",
          "model_name": "HTMLModel",
          "model_module_version": "1.5.0",
          "state": {
            "_dom_classes": [],
            "_model_module": "@jupyter-widgets/controls",
            "_model_module_version": "1.5.0",
            "_model_name": "HTMLModel",
            "_view_count": null,
            "_view_module": "@jupyter-widgets/controls",
            "_view_module_version": "1.5.0",
            "_view_name": "HTMLView",
            "description": "",
            "description_tooltip": null,
            "layout": "IPY_MODEL_27f4d55b4967431d9efb3ca82cd0dfbe",
            "placeholder": "​",
            "style": "IPY_MODEL_bbd64b972f1e41d89f6157c5adfad5a5",
            "value": " 5/5 [04:47&lt;00:00, 56.37s/it]"
          }
        },
        "fec4004c838c49c79db2d9839ea42e24": {
          "model_module": "@jupyter-widgets/base",
          "model_name": "LayoutModel",
          "model_module_version": "1.2.0",
          "state": {
            "_model_module": "@jupyter-widgets/base",
            "_model_module_version": "1.2.0",
            "_model_name": "LayoutModel",
            "_view_count": null,
            "_view_module": "@jupyter-widgets/base",
            "_view_module_version": "1.2.0",
            "_view_name": "LayoutView",
            "align_content": null,
            "align_items": null,
            "align_self": null,
            "border": null,
            "bottom": null,
            "display": null,
            "flex": null,
            "flex_flow": null,
            "grid_area": null,
            "grid_auto_columns": null,
            "grid_auto_flow": null,
            "grid_auto_rows": null,
            "grid_column": null,
            "grid_gap": null,
            "grid_row": null,
            "grid_template_areas": null,
            "grid_template_columns": null,
            "grid_template_rows": null,
            "height": null,
            "justify_content": null,
            "justify_items": null,
            "left": null,
            "margin": null,
            "max_height": null,
            "max_width": null,
            "min_height": null,
            "min_width": null,
            "object_fit": null,
            "object_position": null,
            "order": null,
            "overflow": null,
            "overflow_x": null,
            "overflow_y": null,
            "padding": null,
            "right": null,
            "top": null,
            "visibility": null,
            "width": null
          }
        },
        "427ee03143134bcd8e5df7574161ae51": {
          "model_module": "@jupyter-widgets/base",
          "model_name": "LayoutModel",
          "model_module_version": "1.2.0",
          "state": {
            "_model_module": "@jupyter-widgets/base",
            "_model_module_version": "1.2.0",
            "_model_name": "LayoutModel",
            "_view_count": null,
            "_view_module": "@jupyter-widgets/base",
            "_view_module_version": "1.2.0",
            "_view_name": "LayoutView",
            "align_content": null,
            "align_items": null,
            "align_self": null,
            "border": null,
            "bottom": null,
            "display": null,
            "flex": null,
            "flex_flow": null,
            "grid_area": null,
            "grid_auto_columns": null,
            "grid_auto_flow": null,
            "grid_auto_rows": null,
            "grid_column": null,
            "grid_gap": null,
            "grid_row": null,
            "grid_template_areas": null,
            "grid_template_columns": null,
            "grid_template_rows": null,
            "height": null,
            "justify_content": null,
            "justify_items": null,
            "left": null,
            "margin": null,
            "max_height": null,
            "max_width": null,
            "min_height": null,
            "min_width": null,
            "object_fit": null,
            "object_position": null,
            "order": null,
            "overflow": null,
            "overflow_x": null,
            "overflow_y": null,
            "padding": null,
            "right": null,
            "top": null,
            "visibility": null,
            "width": null
          }
        },
        "49c3e44908684cbeae8caba907fe47ac": {
          "model_module": "@jupyter-widgets/controls",
          "model_name": "DescriptionStyleModel",
          "model_module_version": "1.5.0",
          "state": {
            "_model_module": "@jupyter-widgets/controls",
            "_model_module_version": "1.5.0",
            "_model_name": "DescriptionStyleModel",
            "_view_count": null,
            "_view_module": "@jupyter-widgets/base",
            "_view_module_version": "1.2.0",
            "_view_name": "StyleView",
            "description_width": ""
          }
        },
        "ab5b3febb0b04e0ab4df916cfc2556f2": {
          "model_module": "@jupyter-widgets/base",
          "model_name": "LayoutModel",
          "model_module_version": "1.2.0",
          "state": {
            "_model_module": "@jupyter-widgets/base",
            "_model_module_version": "1.2.0",
            "_model_name": "LayoutModel",
            "_view_count": null,
            "_view_module": "@jupyter-widgets/base",
            "_view_module_version": "1.2.0",
            "_view_name": "LayoutView",
            "align_content": null,
            "align_items": null,
            "align_self": null,
            "border": null,
            "bottom": null,
            "display": null,
            "flex": null,
            "flex_flow": null,
            "grid_area": null,
            "grid_auto_columns": null,
            "grid_auto_flow": null,
            "grid_auto_rows": null,
            "grid_column": null,
            "grid_gap": null,
            "grid_row": null,
            "grid_template_areas": null,
            "grid_template_columns": null,
            "grid_template_rows": null,
            "height": null,
            "justify_content": null,
            "justify_items": null,
            "left": null,
            "margin": null,
            "max_height": null,
            "max_width": null,
            "min_height": null,
            "min_width": null,
            "object_fit": null,
            "object_position": null,
            "order": null,
            "overflow": null,
            "overflow_x": null,
            "overflow_y": null,
            "padding": null,
            "right": null,
            "top": null,
            "visibility": null,
            "width": null
          }
        },
        "d6460abc55214ee0bc1253d0d30a51d9": {
          "model_module": "@jupyter-widgets/controls",
          "model_name": "ProgressStyleModel",
          "model_module_version": "1.5.0",
          "state": {
            "_model_module": "@jupyter-widgets/controls",
            "_model_module_version": "1.5.0",
            "_model_name": "ProgressStyleModel",
            "_view_count": null,
            "_view_module": "@jupyter-widgets/base",
            "_view_module_version": "1.2.0",
            "_view_name": "StyleView",
            "bar_color": null,
            "description_width": ""
          }
        },
        "27f4d55b4967431d9efb3ca82cd0dfbe": {
          "model_module": "@jupyter-widgets/base",
          "model_name": "LayoutModel",
          "model_module_version": "1.2.0",
          "state": {
            "_model_module": "@jupyter-widgets/base",
            "_model_module_version": "1.2.0",
            "_model_name": "LayoutModel",
            "_view_count": null,
            "_view_module": "@jupyter-widgets/base",
            "_view_module_version": "1.2.0",
            "_view_name": "LayoutView",
            "align_content": null,
            "align_items": null,
            "align_self": null,
            "border": null,
            "bottom": null,
            "display": null,
            "flex": null,
            "flex_flow": null,
            "grid_area": null,
            "grid_auto_columns": null,
            "grid_auto_flow": null,
            "grid_auto_rows": null,
            "grid_column": null,
            "grid_gap": null,
            "grid_row": null,
            "grid_template_areas": null,
            "grid_template_columns": null,
            "grid_template_rows": null,
            "height": null,
            "justify_content": null,
            "justify_items": null,
            "left": null,
            "margin": null,
            "max_height": null,
            "max_width": null,
            "min_height": null,
            "min_width": null,
            "object_fit": null,
            "object_position": null,
            "order": null,
            "overflow": null,
            "overflow_x": null,
            "overflow_y": null,
            "padding": null,
            "right": null,
            "top": null,
            "visibility": null,
            "width": null
          }
        },
        "bbd64b972f1e41d89f6157c5adfad5a5": {
          "model_module": "@jupyter-widgets/controls",
          "model_name": "DescriptionStyleModel",
          "model_module_version": "1.5.0",
          "state": {
            "_model_module": "@jupyter-widgets/controls",
            "_model_module_version": "1.5.0",
            "_model_name": "DescriptionStyleModel",
            "_view_count": null,
            "_view_module": "@jupyter-widgets/base",
            "_view_module_version": "1.2.0",
            "_view_name": "StyleView",
            "description_width": ""
          }
        },
        "aed12194459c494c9bd8520f93bc1b9a": {
          "model_module": "@jupyter-widgets/controls",
          "model_name": "HBoxModel",
          "model_module_version": "1.5.0",
          "state": {
            "_dom_classes": [],
            "_model_module": "@jupyter-widgets/controls",
            "_model_module_version": "1.5.0",
            "_model_name": "HBoxModel",
            "_view_count": null,
            "_view_module": "@jupyter-widgets/controls",
            "_view_module_version": "1.5.0",
            "_view_name": "HBoxView",
            "box_style": "",
            "children": [
              "IPY_MODEL_fcf6e39c16ad4c959c3900bb8f725940",
              "IPY_MODEL_b66553d9fb28465794b65a70b9b13ead",
              "IPY_MODEL_1c49c796fb3b4d92b3f3ea683ececbe4"
            ],
            "layout": "IPY_MODEL_eb784a7e242245b39a8c072a129ed988"
          }
        },
        "fcf6e39c16ad4c959c3900bb8f725940": {
          "model_module": "@jupyter-widgets/controls",
          "model_name": "HTMLModel",
          "model_module_version": "1.5.0",
          "state": {
            "_dom_classes": [],
            "_model_module": "@jupyter-widgets/controls",
            "_model_module_version": "1.5.0",
            "_model_name": "HTMLModel",
            "_view_count": null,
            "_view_module": "@jupyter-widgets/controls",
            "_view_module_version": "1.5.0",
            "_view_name": "HTMLView",
            "description": "",
            "description_tooltip": null,
            "layout": "IPY_MODEL_26624f922d294478a8c2e5acebdb4d40",
            "placeholder": "​",
            "style": "IPY_MODEL_38e9b540bf4f4754af45c44fb33da013",
            "value": "Making predictions: 100%"
          }
        },
        "b66553d9fb28465794b65a70b9b13ead": {
          "model_module": "@jupyter-widgets/controls",
          "model_name": "FloatProgressModel",
          "model_module_version": "1.5.0",
          "state": {
            "_dom_classes": [],
            "_model_module": "@jupyter-widgets/controls",
            "_model_module_version": "1.5.0",
            "_model_name": "FloatProgressModel",
            "_view_count": null,
            "_view_module": "@jupyter-widgets/controls",
            "_view_module_version": "1.5.0",
            "_view_name": "ProgressView",
            "bar_style": "success",
            "description": "",
            "description_tooltip": null,
            "layout": "IPY_MODEL_1480cf36ea2b4b67b38d64cd3c54c82c",
            "max": 313,
            "min": 0,
            "orientation": "horizontal",
            "style": "IPY_MODEL_78001126bc904392bceed7a52ecbcc15",
            "value": 313
          }
        },
        "1c49c796fb3b4d92b3f3ea683ececbe4": {
          "model_module": "@jupyter-widgets/controls",
          "model_name": "HTMLModel",
          "model_module_version": "1.5.0",
          "state": {
            "_dom_classes": [],
            "_model_module": "@jupyter-widgets/controls",
            "_model_module_version": "1.5.0",
            "_model_name": "HTMLModel",
            "_view_count": null,
            "_view_module": "@jupyter-widgets/controls",
            "_view_module_version": "1.5.0",
            "_view_name": "HTMLView",
            "description": "",
            "description_tooltip": null,
            "layout": "IPY_MODEL_34bbc8c2b6b542109bab3e282f536428",
            "placeholder": "​",
            "style": "IPY_MODEL_9493fe4689864fb79bb20dacab0d0390",
            "value": " 313/313 [00:04&lt;00:00, 76.44it/s]"
          }
        },
        "eb784a7e242245b39a8c072a129ed988": {
          "model_module": "@jupyter-widgets/base",
          "model_name": "LayoutModel",
          "model_module_version": "1.2.0",
          "state": {
            "_model_module": "@jupyter-widgets/base",
            "_model_module_version": "1.2.0",
            "_model_name": "LayoutModel",
            "_view_count": null,
            "_view_module": "@jupyter-widgets/base",
            "_view_module_version": "1.2.0",
            "_view_name": "LayoutView",
            "align_content": null,
            "align_items": null,
            "align_self": null,
            "border": null,
            "bottom": null,
            "display": null,
            "flex": null,
            "flex_flow": null,
            "grid_area": null,
            "grid_auto_columns": null,
            "grid_auto_flow": null,
            "grid_auto_rows": null,
            "grid_column": null,
            "grid_gap": null,
            "grid_row": null,
            "grid_template_areas": null,
            "grid_template_columns": null,
            "grid_template_rows": null,
            "height": null,
            "justify_content": null,
            "justify_items": null,
            "left": null,
            "margin": null,
            "max_height": null,
            "max_width": null,
            "min_height": null,
            "min_width": null,
            "object_fit": null,
            "object_position": null,
            "order": null,
            "overflow": null,
            "overflow_x": null,
            "overflow_y": null,
            "padding": null,
            "right": null,
            "top": null,
            "visibility": null,
            "width": null
          }
        },
        "26624f922d294478a8c2e5acebdb4d40": {
          "model_module": "@jupyter-widgets/base",
          "model_name": "LayoutModel",
          "model_module_version": "1.2.0",
          "state": {
            "_model_module": "@jupyter-widgets/base",
            "_model_module_version": "1.2.0",
            "_model_name": "LayoutModel",
            "_view_count": null,
            "_view_module": "@jupyter-widgets/base",
            "_view_module_version": "1.2.0",
            "_view_name": "LayoutView",
            "align_content": null,
            "align_items": null,
            "align_self": null,
            "border": null,
            "bottom": null,
            "display": null,
            "flex": null,
            "flex_flow": null,
            "grid_area": null,
            "grid_auto_columns": null,
            "grid_auto_flow": null,
            "grid_auto_rows": null,
            "grid_column": null,
            "grid_gap": null,
            "grid_row": null,
            "grid_template_areas": null,
            "grid_template_columns": null,
            "grid_template_rows": null,
            "height": null,
            "justify_content": null,
            "justify_items": null,
            "left": null,
            "margin": null,
            "max_height": null,
            "max_width": null,
            "min_height": null,
            "min_width": null,
            "object_fit": null,
            "object_position": null,
            "order": null,
            "overflow": null,
            "overflow_x": null,
            "overflow_y": null,
            "padding": null,
            "right": null,
            "top": null,
            "visibility": null,
            "width": null
          }
        },
        "38e9b540bf4f4754af45c44fb33da013": {
          "model_module": "@jupyter-widgets/controls",
          "model_name": "DescriptionStyleModel",
          "model_module_version": "1.5.0",
          "state": {
            "_model_module": "@jupyter-widgets/controls",
            "_model_module_version": "1.5.0",
            "_model_name": "DescriptionStyleModel",
            "_view_count": null,
            "_view_module": "@jupyter-widgets/base",
            "_view_module_version": "1.2.0",
            "_view_name": "StyleView",
            "description_width": ""
          }
        },
        "1480cf36ea2b4b67b38d64cd3c54c82c": {
          "model_module": "@jupyter-widgets/base",
          "model_name": "LayoutModel",
          "model_module_version": "1.2.0",
          "state": {
            "_model_module": "@jupyter-widgets/base",
            "_model_module_version": "1.2.0",
            "_model_name": "LayoutModel",
            "_view_count": null,
            "_view_module": "@jupyter-widgets/base",
            "_view_module_version": "1.2.0",
            "_view_name": "LayoutView",
            "align_content": null,
            "align_items": null,
            "align_self": null,
            "border": null,
            "bottom": null,
            "display": null,
            "flex": null,
            "flex_flow": null,
            "grid_area": null,
            "grid_auto_columns": null,
            "grid_auto_flow": null,
            "grid_auto_rows": null,
            "grid_column": null,
            "grid_gap": null,
            "grid_row": null,
            "grid_template_areas": null,
            "grid_template_columns": null,
            "grid_template_rows": null,
            "height": null,
            "justify_content": null,
            "justify_items": null,
            "left": null,
            "margin": null,
            "max_height": null,
            "max_width": null,
            "min_height": null,
            "min_width": null,
            "object_fit": null,
            "object_position": null,
            "order": null,
            "overflow": null,
            "overflow_x": null,
            "overflow_y": null,
            "padding": null,
            "right": null,
            "top": null,
            "visibility": null,
            "width": null
          }
        },
        "78001126bc904392bceed7a52ecbcc15": {
          "model_module": "@jupyter-widgets/controls",
          "model_name": "ProgressStyleModel",
          "model_module_version": "1.5.0",
          "state": {
            "_model_module": "@jupyter-widgets/controls",
            "_model_module_version": "1.5.0",
            "_model_name": "ProgressStyleModel",
            "_view_count": null,
            "_view_module": "@jupyter-widgets/base",
            "_view_module_version": "1.2.0",
            "_view_name": "StyleView",
            "bar_color": null,
            "description_width": ""
          }
        },
        "34bbc8c2b6b542109bab3e282f536428": {
          "model_module": "@jupyter-widgets/base",
          "model_name": "LayoutModel",
          "model_module_version": "1.2.0",
          "state": {
            "_model_module": "@jupyter-widgets/base",
            "_model_module_version": "1.2.0",
            "_model_name": "LayoutModel",
            "_view_count": null,
            "_view_module": "@jupyter-widgets/base",
            "_view_module_version": "1.2.0",
            "_view_name": "LayoutView",
            "align_content": null,
            "align_items": null,
            "align_self": null,
            "border": null,
            "bottom": null,
            "display": null,
            "flex": null,
            "flex_flow": null,
            "grid_area": null,
            "grid_auto_columns": null,
            "grid_auto_flow": null,
            "grid_auto_rows": null,
            "grid_column": null,
            "grid_gap": null,
            "grid_row": null,
            "grid_template_areas": null,
            "grid_template_columns": null,
            "grid_template_rows": null,
            "height": null,
            "justify_content": null,
            "justify_items": null,
            "left": null,
            "margin": null,
            "max_height": null,
            "max_width": null,
            "min_height": null,
            "min_width": null,
            "object_fit": null,
            "object_position": null,
            "order": null,
            "overflow": null,
            "overflow_x": null,
            "overflow_y": null,
            "padding": null,
            "right": null,
            "top": null,
            "visibility": null,
            "width": null
          }
        },
        "9493fe4689864fb79bb20dacab0d0390": {
          "model_module": "@jupyter-widgets/controls",
          "model_name": "DescriptionStyleModel",
          "model_module_version": "1.5.0",
          "state": {
            "_model_module": "@jupyter-widgets/controls",
            "_model_module_version": "1.5.0",
            "_model_name": "DescriptionStyleModel",
            "_view_count": null,
            "_view_module": "@jupyter-widgets/base",
            "_view_module_version": "1.2.0",
            "_view_name": "StyleView",
            "description_width": ""
          }
        },
        "75e3fbcb870b44f08fe41b05b9b91ad0": {
          "model_module": "@jupyter-widgets/controls",
          "model_name": "HBoxModel",
          "model_module_version": "1.5.0",
          "state": {
            "_dom_classes": [],
            "_model_module": "@jupyter-widgets/controls",
            "_model_module_version": "1.5.0",
            "_model_name": "HBoxModel",
            "_view_count": null,
            "_view_module": "@jupyter-widgets/controls",
            "_view_module_version": "1.5.0",
            "_view_name": "HBoxView",
            "box_style": "",
            "children": [
              "IPY_MODEL_28c3a080e9ee403393cc3af8adc11105",
              "IPY_MODEL_998b45ffbfa7406a8f20353342effa4b",
              "IPY_MODEL_1c2fbeda1e61462bb07e39c5643a4e03"
            ],
            "layout": "IPY_MODEL_c6faad6a0b1448e185c6946842fbe4ac"
          }
        },
        "28c3a080e9ee403393cc3af8adc11105": {
          "model_module": "@jupyter-widgets/controls",
          "model_name": "HTMLModel",
          "model_module_version": "1.5.0",
          "state": {
            "_dom_classes": [],
            "_model_module": "@jupyter-widgets/controls",
            "_model_module_version": "1.5.0",
            "_model_name": "HTMLModel",
            "_view_count": null,
            "_view_module": "@jupyter-widgets/controls",
            "_view_module_version": "1.5.0",
            "_view_name": "HTMLView",
            "description": "",
            "description_tooltip": null,
            "layout": "IPY_MODEL_6cdeb6c2d604402c9fbe6df5c5e71a46",
            "placeholder": "​",
            "style": "IPY_MODEL_ce0150b7659b46e1b9962bae33ca6dd5",
            "value": "100%"
          }
        },
        "998b45ffbfa7406a8f20353342effa4b": {
          "model_module": "@jupyter-widgets/controls",
          "model_name": "FloatProgressModel",
          "model_module_version": "1.5.0",
          "state": {
            "_dom_classes": [],
            "_model_module": "@jupyter-widgets/controls",
            "_model_module_version": "1.5.0",
            "_model_name": "FloatProgressModel",
            "_view_count": null,
            "_view_module": "@jupyter-widgets/controls",
            "_view_module_version": "1.5.0",
            "_view_name": "ProgressView",
            "bar_style": "success",
            "description": "",
            "description_tooltip": null,
            "layout": "IPY_MODEL_b25badd2dcd74e168188fe16f24db8fe",
            "max": 5,
            "min": 0,
            "orientation": "horizontal",
            "style": "IPY_MODEL_55c026c7694e4628a77ec80b0cfc2258",
            "value": 5
          }
        },
        "1c2fbeda1e61462bb07e39c5643a4e03": {
          "model_module": "@jupyter-widgets/controls",
          "model_name": "HTMLModel",
          "model_module_version": "1.5.0",
          "state": {
            "_dom_classes": [],
            "_model_module": "@jupyter-widgets/controls",
            "_model_module_version": "1.5.0",
            "_model_name": "HTMLModel",
            "_view_count": null,
            "_view_module": "@jupyter-widgets/controls",
            "_view_module_version": "1.5.0",
            "_view_name": "HTMLView",
            "description": "",
            "description_tooltip": null,
            "layout": "IPY_MODEL_2c57685367b04258bd34fab5109463ca",
            "placeholder": "​",
            "style": "IPY_MODEL_ee3b83c67bd546e2ac72db71242b8648",
            "value": " 5/5 [04:41&lt;00:00, 55.20s/it]"
          }
        },
        "c6faad6a0b1448e185c6946842fbe4ac": {
          "model_module": "@jupyter-widgets/base",
          "model_name": "LayoutModel",
          "model_module_version": "1.2.0",
          "state": {
            "_model_module": "@jupyter-widgets/base",
            "_model_module_version": "1.2.0",
            "_model_name": "LayoutModel",
            "_view_count": null,
            "_view_module": "@jupyter-widgets/base",
            "_view_module_version": "1.2.0",
            "_view_name": "LayoutView",
            "align_content": null,
            "align_items": null,
            "align_self": null,
            "border": null,
            "bottom": null,
            "display": null,
            "flex": null,
            "flex_flow": null,
            "grid_area": null,
            "grid_auto_columns": null,
            "grid_auto_flow": null,
            "grid_auto_rows": null,
            "grid_column": null,
            "grid_gap": null,
            "grid_row": null,
            "grid_template_areas": null,
            "grid_template_columns": null,
            "grid_template_rows": null,
            "height": null,
            "justify_content": null,
            "justify_items": null,
            "left": null,
            "margin": null,
            "max_height": null,
            "max_width": null,
            "min_height": null,
            "min_width": null,
            "object_fit": null,
            "object_position": null,
            "order": null,
            "overflow": null,
            "overflow_x": null,
            "overflow_y": null,
            "padding": null,
            "right": null,
            "top": null,
            "visibility": null,
            "width": null
          }
        },
        "6cdeb6c2d604402c9fbe6df5c5e71a46": {
          "model_module": "@jupyter-widgets/base",
          "model_name": "LayoutModel",
          "model_module_version": "1.2.0",
          "state": {
            "_model_module": "@jupyter-widgets/base",
            "_model_module_version": "1.2.0",
            "_model_name": "LayoutModel",
            "_view_count": null,
            "_view_module": "@jupyter-widgets/base",
            "_view_module_version": "1.2.0",
            "_view_name": "LayoutView",
            "align_content": null,
            "align_items": null,
            "align_self": null,
            "border": null,
            "bottom": null,
            "display": null,
            "flex": null,
            "flex_flow": null,
            "grid_area": null,
            "grid_auto_columns": null,
            "grid_auto_flow": null,
            "grid_auto_rows": null,
            "grid_column": null,
            "grid_gap": null,
            "grid_row": null,
            "grid_template_areas": null,
            "grid_template_columns": null,
            "grid_template_rows": null,
            "height": null,
            "justify_content": null,
            "justify_items": null,
            "left": null,
            "margin": null,
            "max_height": null,
            "max_width": null,
            "min_height": null,
            "min_width": null,
            "object_fit": null,
            "object_position": null,
            "order": null,
            "overflow": null,
            "overflow_x": null,
            "overflow_y": null,
            "padding": null,
            "right": null,
            "top": null,
            "visibility": null,
            "width": null
          }
        },
        "ce0150b7659b46e1b9962bae33ca6dd5": {
          "model_module": "@jupyter-widgets/controls",
          "model_name": "DescriptionStyleModel",
          "model_module_version": "1.5.0",
          "state": {
            "_model_module": "@jupyter-widgets/controls",
            "_model_module_version": "1.5.0",
            "_model_name": "DescriptionStyleModel",
            "_view_count": null,
            "_view_module": "@jupyter-widgets/base",
            "_view_module_version": "1.2.0",
            "_view_name": "StyleView",
            "description_width": ""
          }
        },
        "b25badd2dcd74e168188fe16f24db8fe": {
          "model_module": "@jupyter-widgets/base",
          "model_name": "LayoutModel",
          "model_module_version": "1.2.0",
          "state": {
            "_model_module": "@jupyter-widgets/base",
            "_model_module_version": "1.2.0",
            "_model_name": "LayoutModel",
            "_view_count": null,
            "_view_module": "@jupyter-widgets/base",
            "_view_module_version": "1.2.0",
            "_view_name": "LayoutView",
            "align_content": null,
            "align_items": null,
            "align_self": null,
            "border": null,
            "bottom": null,
            "display": null,
            "flex": null,
            "flex_flow": null,
            "grid_area": null,
            "grid_auto_columns": null,
            "grid_auto_flow": null,
            "grid_auto_rows": null,
            "grid_column": null,
            "grid_gap": null,
            "grid_row": null,
            "grid_template_areas": null,
            "grid_template_columns": null,
            "grid_template_rows": null,
            "height": null,
            "justify_content": null,
            "justify_items": null,
            "left": null,
            "margin": null,
            "max_height": null,
            "max_width": null,
            "min_height": null,
            "min_width": null,
            "object_fit": null,
            "object_position": null,
            "order": null,
            "overflow": null,
            "overflow_x": null,
            "overflow_y": null,
            "padding": null,
            "right": null,
            "top": null,
            "visibility": null,
            "width": null
          }
        },
        "55c026c7694e4628a77ec80b0cfc2258": {
          "model_module": "@jupyter-widgets/controls",
          "model_name": "ProgressStyleModel",
          "model_module_version": "1.5.0",
          "state": {
            "_model_module": "@jupyter-widgets/controls",
            "_model_module_version": "1.5.0",
            "_model_name": "ProgressStyleModel",
            "_view_count": null,
            "_view_module": "@jupyter-widgets/base",
            "_view_module_version": "1.2.0",
            "_view_name": "StyleView",
            "bar_color": null,
            "description_width": ""
          }
        },
        "2c57685367b04258bd34fab5109463ca": {
          "model_module": "@jupyter-widgets/base",
          "model_name": "LayoutModel",
          "model_module_version": "1.2.0",
          "state": {
            "_model_module": "@jupyter-widgets/base",
            "_model_module_version": "1.2.0",
            "_model_name": "LayoutModel",
            "_view_count": null,
            "_view_module": "@jupyter-widgets/base",
            "_view_module_version": "1.2.0",
            "_view_name": "LayoutView",
            "align_content": null,
            "align_items": null,
            "align_self": null,
            "border": null,
            "bottom": null,
            "display": null,
            "flex": null,
            "flex_flow": null,
            "grid_area": null,
            "grid_auto_columns": null,
            "grid_auto_flow": null,
            "grid_auto_rows": null,
            "grid_column": null,
            "grid_gap": null,
            "grid_row": null,
            "grid_template_areas": null,
            "grid_template_columns": null,
            "grid_template_rows": null,
            "height": null,
            "justify_content": null,
            "justify_items": null,
            "left": null,
            "margin": null,
            "max_height": null,
            "max_width": null,
            "min_height": null,
            "min_width": null,
            "object_fit": null,
            "object_position": null,
            "order": null,
            "overflow": null,
            "overflow_x": null,
            "overflow_y": null,
            "padding": null,
            "right": null,
            "top": null,
            "visibility": null,
            "width": null
          }
        },
        "ee3b83c67bd546e2ac72db71242b8648": {
          "model_module": "@jupyter-widgets/controls",
          "model_name": "DescriptionStyleModel",
          "model_module_version": "1.5.0",
          "state": {
            "_model_module": "@jupyter-widgets/controls",
            "_model_module_version": "1.5.0",
            "_model_name": "DescriptionStyleModel",
            "_view_count": null,
            "_view_module": "@jupyter-widgets/base",
            "_view_module_version": "1.2.0",
            "_view_name": "StyleView",
            "description_width": ""
          }
        },
        "85647a74aeb844e685e98d6898e71ec5": {
          "model_module": "@jupyter-widgets/controls",
          "model_name": "HBoxModel",
          "model_module_version": "1.5.0",
          "state": {
            "_dom_classes": [],
            "_model_module": "@jupyter-widgets/controls",
            "_model_module_version": "1.5.0",
            "_model_name": "HBoxModel",
            "_view_count": null,
            "_view_module": "@jupyter-widgets/controls",
            "_view_module_version": "1.5.0",
            "_view_name": "HBoxView",
            "box_style": "",
            "children": [
              "IPY_MODEL_6317822c752d4b5fa7855eaf2e60eb3c",
              "IPY_MODEL_0ef5067f8d30412287577c515ddc257b",
              "IPY_MODEL_d02a7c582a1049eb8015528d93d6be11"
            ],
            "layout": "IPY_MODEL_1288bb2d3572489589f661e3da6c2b04"
          }
        },
        "6317822c752d4b5fa7855eaf2e60eb3c": {
          "model_module": "@jupyter-widgets/controls",
          "model_name": "HTMLModel",
          "model_module_version": "1.5.0",
          "state": {
            "_dom_classes": [],
            "_model_module": "@jupyter-widgets/controls",
            "_model_module_version": "1.5.0",
            "_model_name": "HTMLModel",
            "_view_count": null,
            "_view_module": "@jupyter-widgets/controls",
            "_view_module_version": "1.5.0",
            "_view_name": "HTMLView",
            "description": "",
            "description_tooltip": null,
            "layout": "IPY_MODEL_79b88fbd6350420d980f93036e08f2a9",
            "placeholder": "​",
            "style": "IPY_MODEL_07d40f3b4efe444e95c384fc9cafe3f4",
            "value": "100%"
          }
        },
        "0ef5067f8d30412287577c515ddc257b": {
          "model_module": "@jupyter-widgets/controls",
          "model_name": "FloatProgressModel",
          "model_module_version": "1.5.0",
          "state": {
            "_dom_classes": [],
            "_model_module": "@jupyter-widgets/controls",
            "_model_module_version": "1.5.0",
            "_model_name": "FloatProgressModel",
            "_view_count": null,
            "_view_module": "@jupyter-widgets/controls",
            "_view_module_version": "1.5.0",
            "_view_name": "ProgressView",
            "bar_style": "success",
            "description": "",
            "description_tooltip": null,
            "layout": "IPY_MODEL_b7b794e74c3a428fbf786cb7473ab55e",
            "max": 313,
            "min": 0,
            "orientation": "horizontal",
            "style": "IPY_MODEL_c99622318d624ee586c72b5da1617742",
            "value": 313
          }
        },
        "d02a7c582a1049eb8015528d93d6be11": {
          "model_module": "@jupyter-widgets/controls",
          "model_name": "HTMLModel",
          "model_module_version": "1.5.0",
          "state": {
            "_dom_classes": [],
            "_model_module": "@jupyter-widgets/controls",
            "_model_module_version": "1.5.0",
            "_model_name": "HTMLModel",
            "_view_count": null,
            "_view_module": "@jupyter-widgets/controls",
            "_view_module_version": "1.5.0",
            "_view_name": "HTMLView",
            "description": "",
            "description_tooltip": null,
            "layout": "IPY_MODEL_f870f5e1eeb346228d8bced92ca58012",
            "placeholder": "​",
            "style": "IPY_MODEL_8798bb4fe0434d02a7f707a05ce8923d",
            "value": " 313/313 [00:04&lt;00:00, 76.31it/s]"
          }
        },
        "1288bb2d3572489589f661e3da6c2b04": {
          "model_module": "@jupyter-widgets/base",
          "model_name": "LayoutModel",
          "model_module_version": "1.2.0",
          "state": {
            "_model_module": "@jupyter-widgets/base",
            "_model_module_version": "1.2.0",
            "_model_name": "LayoutModel",
            "_view_count": null,
            "_view_module": "@jupyter-widgets/base",
            "_view_module_version": "1.2.0",
            "_view_name": "LayoutView",
            "align_content": null,
            "align_items": null,
            "align_self": null,
            "border": null,
            "bottom": null,
            "display": null,
            "flex": null,
            "flex_flow": null,
            "grid_area": null,
            "grid_auto_columns": null,
            "grid_auto_flow": null,
            "grid_auto_rows": null,
            "grid_column": null,
            "grid_gap": null,
            "grid_row": null,
            "grid_template_areas": null,
            "grid_template_columns": null,
            "grid_template_rows": null,
            "height": null,
            "justify_content": null,
            "justify_items": null,
            "left": null,
            "margin": null,
            "max_height": null,
            "max_width": null,
            "min_height": null,
            "min_width": null,
            "object_fit": null,
            "object_position": null,
            "order": null,
            "overflow": null,
            "overflow_x": null,
            "overflow_y": null,
            "padding": null,
            "right": null,
            "top": null,
            "visibility": null,
            "width": null
          }
        },
        "79b88fbd6350420d980f93036e08f2a9": {
          "model_module": "@jupyter-widgets/base",
          "model_name": "LayoutModel",
          "model_module_version": "1.2.0",
          "state": {
            "_model_module": "@jupyter-widgets/base",
            "_model_module_version": "1.2.0",
            "_model_name": "LayoutModel",
            "_view_count": null,
            "_view_module": "@jupyter-widgets/base",
            "_view_module_version": "1.2.0",
            "_view_name": "LayoutView",
            "align_content": null,
            "align_items": null,
            "align_self": null,
            "border": null,
            "bottom": null,
            "display": null,
            "flex": null,
            "flex_flow": null,
            "grid_area": null,
            "grid_auto_columns": null,
            "grid_auto_flow": null,
            "grid_auto_rows": null,
            "grid_column": null,
            "grid_gap": null,
            "grid_row": null,
            "grid_template_areas": null,
            "grid_template_columns": null,
            "grid_template_rows": null,
            "height": null,
            "justify_content": null,
            "justify_items": null,
            "left": null,
            "margin": null,
            "max_height": null,
            "max_width": null,
            "min_height": null,
            "min_width": null,
            "object_fit": null,
            "object_position": null,
            "order": null,
            "overflow": null,
            "overflow_x": null,
            "overflow_y": null,
            "padding": null,
            "right": null,
            "top": null,
            "visibility": null,
            "width": null
          }
        },
        "07d40f3b4efe444e95c384fc9cafe3f4": {
          "model_module": "@jupyter-widgets/controls",
          "model_name": "DescriptionStyleModel",
          "model_module_version": "1.5.0",
          "state": {
            "_model_module": "@jupyter-widgets/controls",
            "_model_module_version": "1.5.0",
            "_model_name": "DescriptionStyleModel",
            "_view_count": null,
            "_view_module": "@jupyter-widgets/base",
            "_view_module_version": "1.2.0",
            "_view_name": "StyleView",
            "description_width": ""
          }
        },
        "b7b794e74c3a428fbf786cb7473ab55e": {
          "model_module": "@jupyter-widgets/base",
          "model_name": "LayoutModel",
          "model_module_version": "1.2.0",
          "state": {
            "_model_module": "@jupyter-widgets/base",
            "_model_module_version": "1.2.0",
            "_model_name": "LayoutModel",
            "_view_count": null,
            "_view_module": "@jupyter-widgets/base",
            "_view_module_version": "1.2.0",
            "_view_name": "LayoutView",
            "align_content": null,
            "align_items": null,
            "align_self": null,
            "border": null,
            "bottom": null,
            "display": null,
            "flex": null,
            "flex_flow": null,
            "grid_area": null,
            "grid_auto_columns": null,
            "grid_auto_flow": null,
            "grid_auto_rows": null,
            "grid_column": null,
            "grid_gap": null,
            "grid_row": null,
            "grid_template_areas": null,
            "grid_template_columns": null,
            "grid_template_rows": null,
            "height": null,
            "justify_content": null,
            "justify_items": null,
            "left": null,
            "margin": null,
            "max_height": null,
            "max_width": null,
            "min_height": null,
            "min_width": null,
            "object_fit": null,
            "object_position": null,
            "order": null,
            "overflow": null,
            "overflow_x": null,
            "overflow_y": null,
            "padding": null,
            "right": null,
            "top": null,
            "visibility": null,
            "width": null
          }
        },
        "c99622318d624ee586c72b5da1617742": {
          "model_module": "@jupyter-widgets/controls",
          "model_name": "ProgressStyleModel",
          "model_module_version": "1.5.0",
          "state": {
            "_model_module": "@jupyter-widgets/controls",
            "_model_module_version": "1.5.0",
            "_model_name": "ProgressStyleModel",
            "_view_count": null,
            "_view_module": "@jupyter-widgets/base",
            "_view_module_version": "1.2.0",
            "_view_name": "StyleView",
            "bar_color": null,
            "description_width": ""
          }
        },
        "f870f5e1eeb346228d8bced92ca58012": {
          "model_module": "@jupyter-widgets/base",
          "model_name": "LayoutModel",
          "model_module_version": "1.2.0",
          "state": {
            "_model_module": "@jupyter-widgets/base",
            "_model_module_version": "1.2.0",
            "_model_name": "LayoutModel",
            "_view_count": null,
            "_view_module": "@jupyter-widgets/base",
            "_view_module_version": "1.2.0",
            "_view_name": "LayoutView",
            "align_content": null,
            "align_items": null,
            "align_self": null,
            "border": null,
            "bottom": null,
            "display": null,
            "flex": null,
            "flex_flow": null,
            "grid_area": null,
            "grid_auto_columns": null,
            "grid_auto_flow": null,
            "grid_auto_rows": null,
            "grid_column": null,
            "grid_gap": null,
            "grid_row": null,
            "grid_template_areas": null,
            "grid_template_columns": null,
            "grid_template_rows": null,
            "height": null,
            "justify_content": null,
            "justify_items": null,
            "left": null,
            "margin": null,
            "max_height": null,
            "max_width": null,
            "min_height": null,
            "min_width": null,
            "object_fit": null,
            "object_position": null,
            "order": null,
            "overflow": null,
            "overflow_x": null,
            "overflow_y": null,
            "padding": null,
            "right": null,
            "top": null,
            "visibility": null,
            "width": null
          }
        },
        "8798bb4fe0434d02a7f707a05ce8923d": {
          "model_module": "@jupyter-widgets/controls",
          "model_name": "DescriptionStyleModel",
          "model_module_version": "1.5.0",
          "state": {
            "_model_module": "@jupyter-widgets/controls",
            "_model_module_version": "1.5.0",
            "_model_name": "DescriptionStyleModel",
            "_view_count": null,
            "_view_module": "@jupyter-widgets/base",
            "_view_module_version": "1.2.0",
            "_view_name": "StyleView",
            "description_width": ""
          }
        }
      }
    }
  },
  "cells": [
    {
      "cell_type": "markdown",
      "metadata": {
        "id": "view-in-github",
        "colab_type": "text"
      },
      "source": [
        "<a href=\"https://colab.research.google.com/github/LIRuixuan0407/Pytorch_exercises/blob/main/03_pytorch_computer_vision_exercises.ipynb\" target=\"_parent\"><img src=\"https://colab.research.google.com/assets/colab-badge.svg\" alt=\"Open In Colab\"/></a>"
      ]
    },
    {
      "cell_type": "markdown",
      "source": [
        "# 03. PyTorch Computer Vision Exercises\n",
        "\n",
        "The following is a collection of exercises based on computer vision fundamentals in PyTorch.\n",
        "\n",
        "They're a bunch of fun.\n",
        "\n",
        "You're going to get to write plenty of code!\n",
        "\n",
        "## Resources\n",
        "\n",
        "1. These exercises are based on [notebook 03 of the Learn PyTorch for Deep Learning course](https://www.learnpytorch.io/03_pytorch_computer_vision/).\n",
        "2. See a live [walkthrough of the solutions (errors and all) on YouTube](https://youtu.be/_PibmqpEyhA).\n",
        "  * **Note:** Going through these exercises took me just over 3 hours of solid coding, so you should expect around the same.\n",
        "3. See [other solutions on the course GitHub](https://github.com/mrdbourke/pytorch-deep-learning/tree/main/extras/solutions)."
      ],
      "metadata": {
        "id": "Vex99np2wFVt"
      }
    },
    {
      "cell_type": "code",
      "source": [
        "# Check for GPU\n",
        "!nvidia-smi"
      ],
      "metadata": {
        "colab": {
          "base_uri": "https://localhost:8080/"
        },
        "id": "GaeYzOTLwWh2",
        "outputId": "745955fd-981f-47ff-abaf-21adcac2ced7"
      },
      "execution_count": 1,
      "outputs": [
        {
          "output_type": "stream",
          "name": "stdout",
          "text": [
            "/bin/bash: line 1: nvidia-smi: command not found\n"
          ]
        }
      ]
    },
    {
      "cell_type": "code",
      "source": [
        "# Import torch\n",
        "import torch\n",
        "\n",
        "# Exercises require PyTorch > 1.10.0\n",
        "print(torch.__version__)\n",
        "\n",
        "# TODO: Setup device agnostic code\n",
        "device = \"cuda\" if torch.cuda.is_available() else \"cpu\"\n",
        "device"
      ],
      "metadata": {
        "colab": {
          "base_uri": "https://localhost:8080/",
          "height": 53
        },
        "id": "DNwZLMbCzJLk",
        "outputId": "2d343966-c1cc-45b2-9831-e253b6521b97"
      },
      "execution_count": 2,
      "outputs": [
        {
          "output_type": "stream",
          "name": "stdout",
          "text": [
            "2.6.0+cu124\n"
          ]
        },
        {
          "output_type": "execute_result",
          "data": {
            "text/plain": [
              "'cpu'"
            ],
            "application/vnd.google.colaboratory.intrinsic+json": {
              "type": "string"
            }
          },
          "metadata": {},
          "execution_count": 2
        }
      ]
    },
    {
      "cell_type": "markdown",
      "source": [
        "## 1. What are 3 areas in industry where computer vision is currently being used?"
      ],
      "metadata": {
        "id": "FSFX7tc1w-en"
      }
    },
    {
      "cell_type": "code",
      "source": [
        "\"\"\"\n",
        "Manufacturing\n",
        "Healthcare\n",
        "Agriculture\n",
        "\"\"\""
      ],
      "metadata": {
        "id": "VyWRkvWGbCXj",
        "outputId": "64de1c6a-2bd2-4396-d257-2c58eec5f493",
        "colab": {
          "base_uri": "https://localhost:8080/",
          "height": 35
        }
      },
      "execution_count": 3,
      "outputs": [
        {
          "output_type": "execute_result",
          "data": {
            "text/plain": [
              "'\\nManufacturing\\nHealthcare\\nAgriculture\\n'"
            ],
            "application/vnd.google.colaboratory.intrinsic+json": {
              "type": "string"
            }
          },
          "metadata": {},
          "execution_count": 3
        }
      ]
    },
    {
      "cell_type": "markdown",
      "source": [
        "## 2. Search \"what is overfitting in machine learning\" and write down a sentence about what you find."
      ],
      "metadata": {
        "id": "oBK-WI6YxDYa"
      }
    },
    {
      "cell_type": "code",
      "source": [
        "\"\"\"\n",
        "Overfitting in machine learning occurs when a model learns the details and noise in the training data to the extent that it performs poorly on new, unseen data.\n",
        "\"\"\""
      ],
      "metadata": {
        "id": "d1rxD6GObCqh",
        "outputId": "359f3b27-987d-4b10-f61e-5b48b58ff1fd",
        "colab": {
          "base_uri": "https://localhost:8080/",
          "height": 35
        }
      },
      "execution_count": 4,
      "outputs": [
        {
          "output_type": "execute_result",
          "data": {
            "text/plain": [
              "'\\nOverfitting in machine learning occurs when a model learns the details and noise in the training data to the extent that it performs poorly on new, unseen data.\\n'"
            ],
            "application/vnd.google.colaboratory.intrinsic+json": {
              "type": "string"
            }
          },
          "metadata": {},
          "execution_count": 4
        }
      ]
    },
    {
      "cell_type": "markdown",
      "source": [
        "## 3. Search \"ways to prevent overfitting in machine learning\", write down 3 of the things you find and a sentence about each.\n",
        "> **Note:** there are lots of these, so don't worry too much about all of them, just pick 3 and start with those."
      ],
      "metadata": {
        "id": "XeYFEqw8xK26"
      }
    },
    {
      "cell_type": "code",
      "source": [
        "\"\"\"\n",
        "1. Cross-Validation: This technique involves splitting the dataset into multiple subsets and training the model on each subset while validating on the remaining data. It helps ensure the model generalizes well to unseen data.\n",
        "\n",
        "2. Regularization: Regularization techniques, such as L1 and L2 regularization, add a penalty to the loss function for large coefficients. This discourages the model from fitting the noise in the training data.\n",
        "\n",
        "3. Early Stopping: This method involves monitoring the model's performance on a validation set and stopping the training process when the performance starts to degrade. It prevents the model from overfitting by not allowing it to learn the noise in the training data.\n",
        "\"\"\""
      ],
      "metadata": {
        "id": "ocvOdWKcbEKr",
        "outputId": "5e05c69a-0975-4b61-b6ac-f659812d8aa5",
        "colab": {
          "base_uri": "https://localhost:8080/",
          "height": 89
        }
      },
      "execution_count": 5,
      "outputs": [
        {
          "output_type": "execute_result",
          "data": {
            "text/plain": [
              "\"\\n1. Cross-Validation: This technique involves splitting the dataset into multiple subsets and training the model on each subset while validating on the remaining data. It helps ensure the model generalizes well to unseen data.\\n\\n2. Regularization: Regularization techniques, such as L1 and L2 regularization, add a penalty to the loss function for large coefficients. This discourages the model from fitting the noise in the training data.\\n\\n3. Early Stopping: This method involves monitoring the model's performance on a validation set and stopping the training process when the performance starts to degrade. It prevents the model from overfitting by not allowing it to learn the noise in the training data.\\n\""
            ],
            "application/vnd.google.colaboratory.intrinsic+json": {
              "type": "string"
            }
          },
          "metadata": {},
          "execution_count": 5
        }
      ]
    },
    {
      "cell_type": "markdown",
      "source": [
        "## 4. Spend 20-minutes reading and clicking through the [CNN Explainer website](https://poloclub.github.io/cnn-explainer/).\n",
        "\n",
        "* Upload your own example image using the \"upload\" button on the website and see what happens in each layer of a CNN as your image passes through it."
      ],
      "metadata": {
        "id": "DKdEEFEqxM-8"
      }
    },
    {
      "cell_type": "code",
      "source": [],
      "metadata": {
        "id": "TqZaJIRMbFtS"
      },
      "execution_count": 5,
      "outputs": []
    },
    {
      "cell_type": "markdown",
      "source": [
        "## 5. Load the [`torchvision.datasets.MNIST()`](https://pytorch.org/vision/stable/generated/torchvision.datasets.MNIST.html#torchvision.datasets.MNIST) train and test datasets."
      ],
      "metadata": {
        "id": "lvf-3pODxXYI"
      }
    },
    {
      "cell_type": "code",
      "source": [
        "import torchvision\n",
        "from torchvision import datasets\n",
        "from torchvision.transforms import ToTensor\n",
        "\n",
        "train_data = datasets.MNIST(\n",
        "    root=\"data\",\n",
        "    train=True,\n",
        "    download=True,\n",
        "    transform=ToTensor(),\n",
        "    target_transform=None\n",
        ")\n",
        "\n",
        "test_data = datasets.MNIST(\n",
        "    root=\"data\",\n",
        "    train=False,\n",
        "    download=True,\n",
        "    transform=ToTensor()\n",
        ")"
      ],
      "metadata": {
        "id": "SHjeuN81bHza",
        "outputId": "4ed8e9d5-5d1c-435e-a361-5bfb0c32ce31",
        "colab": {
          "base_uri": "https://localhost:8080/"
        }
      },
      "execution_count": 6,
      "outputs": [
        {
          "output_type": "stream",
          "name": "stderr",
          "text": [
            "100%|██████████| 9.91M/9.91M [00:00<00:00, 57.5MB/s]\n",
            "100%|██████████| 28.9k/28.9k [00:00<00:00, 1.72MB/s]\n",
            "100%|██████████| 1.65M/1.65M [00:00<00:00, 14.4MB/s]\n",
            "100%|██████████| 4.54k/4.54k [00:00<00:00, 8.06MB/s]\n"
          ]
        }
      ]
    },
    {
      "cell_type": "code",
      "source": [
        "train_data, test_data"
      ],
      "metadata": {
        "id": "KFPAg-LvWL5u",
        "outputId": "6b5c3a8b-6477-443a-dae4-102c1cc02392",
        "colab": {
          "base_uri": "https://localhost:8080/"
        }
      },
      "execution_count": 7,
      "outputs": [
        {
          "output_type": "execute_result",
          "data": {
            "text/plain": [
              "(Dataset MNIST\n",
              "     Number of datapoints: 60000\n",
              "     Root location: data\n",
              "     Split: Train\n",
              "     StandardTransform\n",
              " Transform: ToTensor(),\n",
              " Dataset MNIST\n",
              "     Number of datapoints: 10000\n",
              "     Root location: data\n",
              "     Split: Test\n",
              "     StandardTransform\n",
              " Transform: ToTensor())"
            ]
          },
          "metadata": {},
          "execution_count": 7
        }
      ]
    },
    {
      "cell_type": "code",
      "source": [
        "img, label= train_data[0]\n",
        "print(f\"Image:\\n{img}\")\n",
        "print(f\"Label:\\n{label}\")"
      ],
      "metadata": {
        "id": "3klxAvO4WSF1",
        "outputId": "20fe495e-a0e4-4d33-9bfb-3c7272f8ddb1",
        "colab": {
          "base_uri": "https://localhost:8080/"
        }
      },
      "execution_count": 8,
      "outputs": [
        {
          "output_type": "stream",
          "name": "stdout",
          "text": [
            "Image:\n",
            "tensor([[[0.0000, 0.0000, 0.0000, 0.0000, 0.0000, 0.0000, 0.0000, 0.0000,\n",
            "          0.0000, 0.0000, 0.0000, 0.0000, 0.0000, 0.0000, 0.0000, 0.0000,\n",
            "          0.0000, 0.0000, 0.0000, 0.0000, 0.0000, 0.0000, 0.0000, 0.0000,\n",
            "          0.0000, 0.0000, 0.0000, 0.0000],\n",
            "         [0.0000, 0.0000, 0.0000, 0.0000, 0.0000, 0.0000, 0.0000, 0.0000,\n",
            "          0.0000, 0.0000, 0.0000, 0.0000, 0.0000, 0.0000, 0.0000, 0.0000,\n",
            "          0.0000, 0.0000, 0.0000, 0.0000, 0.0000, 0.0000, 0.0000, 0.0000,\n",
            "          0.0000, 0.0000, 0.0000, 0.0000],\n",
            "         [0.0000, 0.0000, 0.0000, 0.0000, 0.0000, 0.0000, 0.0000, 0.0000,\n",
            "          0.0000, 0.0000, 0.0000, 0.0000, 0.0000, 0.0000, 0.0000, 0.0000,\n",
            "          0.0000, 0.0000, 0.0000, 0.0000, 0.0000, 0.0000, 0.0000, 0.0000,\n",
            "          0.0000, 0.0000, 0.0000, 0.0000],\n",
            "         [0.0000, 0.0000, 0.0000, 0.0000, 0.0000, 0.0000, 0.0000, 0.0000,\n",
            "          0.0000, 0.0000, 0.0000, 0.0000, 0.0000, 0.0000, 0.0000, 0.0000,\n",
            "          0.0000, 0.0000, 0.0000, 0.0000, 0.0000, 0.0000, 0.0000, 0.0000,\n",
            "          0.0000, 0.0000, 0.0000, 0.0000],\n",
            "         [0.0000, 0.0000, 0.0000, 0.0000, 0.0000, 0.0000, 0.0000, 0.0000,\n",
            "          0.0000, 0.0000, 0.0000, 0.0000, 0.0000, 0.0000, 0.0000, 0.0000,\n",
            "          0.0000, 0.0000, 0.0000, 0.0000, 0.0000, 0.0000, 0.0000, 0.0000,\n",
            "          0.0000, 0.0000, 0.0000, 0.0000],\n",
            "         [0.0000, 0.0000, 0.0000, 0.0000, 0.0000, 0.0000, 0.0000, 0.0000,\n",
            "          0.0000, 0.0000, 0.0000, 0.0000, 0.0118, 0.0706, 0.0706, 0.0706,\n",
            "          0.4941, 0.5333, 0.6863, 0.1020, 0.6510, 1.0000, 0.9686, 0.4980,\n",
            "          0.0000, 0.0000, 0.0000, 0.0000],\n",
            "         [0.0000, 0.0000, 0.0000, 0.0000, 0.0000, 0.0000, 0.0000, 0.0000,\n",
            "          0.1176, 0.1412, 0.3686, 0.6039, 0.6667, 0.9922, 0.9922, 0.9922,\n",
            "          0.9922, 0.9922, 0.8824, 0.6745, 0.9922, 0.9490, 0.7647, 0.2510,\n",
            "          0.0000, 0.0000, 0.0000, 0.0000],\n",
            "         [0.0000, 0.0000, 0.0000, 0.0000, 0.0000, 0.0000, 0.0000, 0.1922,\n",
            "          0.9333, 0.9922, 0.9922, 0.9922, 0.9922, 0.9922, 0.9922, 0.9922,\n",
            "          0.9922, 0.9843, 0.3647, 0.3216, 0.3216, 0.2196, 0.1529, 0.0000,\n",
            "          0.0000, 0.0000, 0.0000, 0.0000],\n",
            "         [0.0000, 0.0000, 0.0000, 0.0000, 0.0000, 0.0000, 0.0000, 0.0706,\n",
            "          0.8588, 0.9922, 0.9922, 0.9922, 0.9922, 0.9922, 0.7765, 0.7137,\n",
            "          0.9686, 0.9451, 0.0000, 0.0000, 0.0000, 0.0000, 0.0000, 0.0000,\n",
            "          0.0000, 0.0000, 0.0000, 0.0000],\n",
            "         [0.0000, 0.0000, 0.0000, 0.0000, 0.0000, 0.0000, 0.0000, 0.0000,\n",
            "          0.3137, 0.6118, 0.4196, 0.9922, 0.9922, 0.8039, 0.0431, 0.0000,\n",
            "          0.1686, 0.6039, 0.0000, 0.0000, 0.0000, 0.0000, 0.0000, 0.0000,\n",
            "          0.0000, 0.0000, 0.0000, 0.0000],\n",
            "         [0.0000, 0.0000, 0.0000, 0.0000, 0.0000, 0.0000, 0.0000, 0.0000,\n",
            "          0.0000, 0.0549, 0.0039, 0.6039, 0.9922, 0.3529, 0.0000, 0.0000,\n",
            "          0.0000, 0.0000, 0.0000, 0.0000, 0.0000, 0.0000, 0.0000, 0.0000,\n",
            "          0.0000, 0.0000, 0.0000, 0.0000],\n",
            "         [0.0000, 0.0000, 0.0000, 0.0000, 0.0000, 0.0000, 0.0000, 0.0000,\n",
            "          0.0000, 0.0000, 0.0000, 0.5451, 0.9922, 0.7451, 0.0078, 0.0000,\n",
            "          0.0000, 0.0000, 0.0000, 0.0000, 0.0000, 0.0000, 0.0000, 0.0000,\n",
            "          0.0000, 0.0000, 0.0000, 0.0000],\n",
            "         [0.0000, 0.0000, 0.0000, 0.0000, 0.0000, 0.0000, 0.0000, 0.0000,\n",
            "          0.0000, 0.0000, 0.0000, 0.0431, 0.7451, 0.9922, 0.2745, 0.0000,\n",
            "          0.0000, 0.0000, 0.0000, 0.0000, 0.0000, 0.0000, 0.0000, 0.0000,\n",
            "          0.0000, 0.0000, 0.0000, 0.0000],\n",
            "         [0.0000, 0.0000, 0.0000, 0.0000, 0.0000, 0.0000, 0.0000, 0.0000,\n",
            "          0.0000, 0.0000, 0.0000, 0.0000, 0.1373, 0.9451, 0.8824, 0.6275,\n",
            "          0.4235, 0.0039, 0.0000, 0.0000, 0.0000, 0.0000, 0.0000, 0.0000,\n",
            "          0.0000, 0.0000, 0.0000, 0.0000],\n",
            "         [0.0000, 0.0000, 0.0000, 0.0000, 0.0000, 0.0000, 0.0000, 0.0000,\n",
            "          0.0000, 0.0000, 0.0000, 0.0000, 0.0000, 0.3176, 0.9412, 0.9922,\n",
            "          0.9922, 0.4667, 0.0980, 0.0000, 0.0000, 0.0000, 0.0000, 0.0000,\n",
            "          0.0000, 0.0000, 0.0000, 0.0000],\n",
            "         [0.0000, 0.0000, 0.0000, 0.0000, 0.0000, 0.0000, 0.0000, 0.0000,\n",
            "          0.0000, 0.0000, 0.0000, 0.0000, 0.0000, 0.0000, 0.1765, 0.7294,\n",
            "          0.9922, 0.9922, 0.5882, 0.1059, 0.0000, 0.0000, 0.0000, 0.0000,\n",
            "          0.0000, 0.0000, 0.0000, 0.0000],\n",
            "         [0.0000, 0.0000, 0.0000, 0.0000, 0.0000, 0.0000, 0.0000, 0.0000,\n",
            "          0.0000, 0.0000, 0.0000, 0.0000, 0.0000, 0.0000, 0.0000, 0.0627,\n",
            "          0.3647, 0.9882, 0.9922, 0.7333, 0.0000, 0.0000, 0.0000, 0.0000,\n",
            "          0.0000, 0.0000, 0.0000, 0.0000],\n",
            "         [0.0000, 0.0000, 0.0000, 0.0000, 0.0000, 0.0000, 0.0000, 0.0000,\n",
            "          0.0000, 0.0000, 0.0000, 0.0000, 0.0000, 0.0000, 0.0000, 0.0000,\n",
            "          0.0000, 0.9765, 0.9922, 0.9765, 0.2510, 0.0000, 0.0000, 0.0000,\n",
            "          0.0000, 0.0000, 0.0000, 0.0000],\n",
            "         [0.0000, 0.0000, 0.0000, 0.0000, 0.0000, 0.0000, 0.0000, 0.0000,\n",
            "          0.0000, 0.0000, 0.0000, 0.0000, 0.0000, 0.0000, 0.1804, 0.5098,\n",
            "          0.7176, 0.9922, 0.9922, 0.8118, 0.0078, 0.0000, 0.0000, 0.0000,\n",
            "          0.0000, 0.0000, 0.0000, 0.0000],\n",
            "         [0.0000, 0.0000, 0.0000, 0.0000, 0.0000, 0.0000, 0.0000, 0.0000,\n",
            "          0.0000, 0.0000, 0.0000, 0.0000, 0.1529, 0.5804, 0.8980, 0.9922,\n",
            "          0.9922, 0.9922, 0.9804, 0.7137, 0.0000, 0.0000, 0.0000, 0.0000,\n",
            "          0.0000, 0.0000, 0.0000, 0.0000],\n",
            "         [0.0000, 0.0000, 0.0000, 0.0000, 0.0000, 0.0000, 0.0000, 0.0000,\n",
            "          0.0000, 0.0000, 0.0941, 0.4471, 0.8667, 0.9922, 0.9922, 0.9922,\n",
            "          0.9922, 0.7882, 0.3059, 0.0000, 0.0000, 0.0000, 0.0000, 0.0000,\n",
            "          0.0000, 0.0000, 0.0000, 0.0000],\n",
            "         [0.0000, 0.0000, 0.0000, 0.0000, 0.0000, 0.0000, 0.0000, 0.0000,\n",
            "          0.0902, 0.2588, 0.8353, 0.9922, 0.9922, 0.9922, 0.9922, 0.7765,\n",
            "          0.3176, 0.0078, 0.0000, 0.0000, 0.0000, 0.0000, 0.0000, 0.0000,\n",
            "          0.0000, 0.0000, 0.0000, 0.0000],\n",
            "         [0.0000, 0.0000, 0.0000, 0.0000, 0.0000, 0.0000, 0.0706, 0.6706,\n",
            "          0.8588, 0.9922, 0.9922, 0.9922, 0.9922, 0.7647, 0.3137, 0.0353,\n",
            "          0.0000, 0.0000, 0.0000, 0.0000, 0.0000, 0.0000, 0.0000, 0.0000,\n",
            "          0.0000, 0.0000, 0.0000, 0.0000],\n",
            "         [0.0000, 0.0000, 0.0000, 0.0000, 0.2157, 0.6745, 0.8863, 0.9922,\n",
            "          0.9922, 0.9922, 0.9922, 0.9569, 0.5216, 0.0431, 0.0000, 0.0000,\n",
            "          0.0000, 0.0000, 0.0000, 0.0000, 0.0000, 0.0000, 0.0000, 0.0000,\n",
            "          0.0000, 0.0000, 0.0000, 0.0000],\n",
            "         [0.0000, 0.0000, 0.0000, 0.0000, 0.5333, 0.9922, 0.9922, 0.9922,\n",
            "          0.8314, 0.5294, 0.5176, 0.0627, 0.0000, 0.0000, 0.0000, 0.0000,\n",
            "          0.0000, 0.0000, 0.0000, 0.0000, 0.0000, 0.0000, 0.0000, 0.0000,\n",
            "          0.0000, 0.0000, 0.0000, 0.0000],\n",
            "         [0.0000, 0.0000, 0.0000, 0.0000, 0.0000, 0.0000, 0.0000, 0.0000,\n",
            "          0.0000, 0.0000, 0.0000, 0.0000, 0.0000, 0.0000, 0.0000, 0.0000,\n",
            "          0.0000, 0.0000, 0.0000, 0.0000, 0.0000, 0.0000, 0.0000, 0.0000,\n",
            "          0.0000, 0.0000, 0.0000, 0.0000],\n",
            "         [0.0000, 0.0000, 0.0000, 0.0000, 0.0000, 0.0000, 0.0000, 0.0000,\n",
            "          0.0000, 0.0000, 0.0000, 0.0000, 0.0000, 0.0000, 0.0000, 0.0000,\n",
            "          0.0000, 0.0000, 0.0000, 0.0000, 0.0000, 0.0000, 0.0000, 0.0000,\n",
            "          0.0000, 0.0000, 0.0000, 0.0000],\n",
            "         [0.0000, 0.0000, 0.0000, 0.0000, 0.0000, 0.0000, 0.0000, 0.0000,\n",
            "          0.0000, 0.0000, 0.0000, 0.0000, 0.0000, 0.0000, 0.0000, 0.0000,\n",
            "          0.0000, 0.0000, 0.0000, 0.0000, 0.0000, 0.0000, 0.0000, 0.0000,\n",
            "          0.0000, 0.0000, 0.0000, 0.0000]]])\n",
            "Label:\n",
            "5\n"
          ]
        }
      ]
    },
    {
      "cell_type": "code",
      "source": [
        "print(f\"Image shape: {img.shape} -> [color_channels, height, width] (CHW)\")\n",
        "print(f\"Label: {label}\")\n",
        ""
      ],
      "metadata": {
        "id": "TUfayLiwW99V",
        "outputId": "346c82ba-28ff-4973-fa0e-7096bfe4692a",
        "colab": {
          "base_uri": "https://localhost:8080/"
        }
      },
      "execution_count": 9,
      "outputs": [
        {
          "output_type": "stream",
          "name": "stdout",
          "text": [
            "Image shape: torch.Size([1, 28, 28]) -> [color_channels, height, width] (CHW)\n",
            "Label: 5\n"
          ]
        }
      ]
    },
    {
      "cell_type": "markdown",
      "source": [
        "## 6. Visualize at least 5 different samples of the MNIST training dataset."
      ],
      "metadata": {
        "id": "qxZW-uAbxe_F"
      }
    },
    {
      "cell_type": "code",
      "source": [
        "import matplotlib.pyplot as plt\n",
        "\n",
        "torch.manual_seed(42)\n",
        "fig = plt.figure(figsize=(9, 9))\n",
        "rows, cols = 5, 5\n",
        "for i in range(1, rows * cols + 1):\n",
        "  random_index = torch.randint(0, len(train_data), size=[1]).item()\n",
        "  img, label = train_data[random_index]\n",
        "  fig.add_subplot(rows, cols, i)\n",
        "  plt.imshow(img.squeeze(), cmap=\"gray\")\n",
        "  plt.axis(False)\n",
        "  plt.title(label)"
      ],
      "metadata": {
        "id": "QVFsYi1PbItE",
        "outputId": "53657cb2-94fa-42bb-f50e-4fea764510bb",
        "colab": {
          "base_uri": "https://localhost:8080/",
          "height": 752
        }
      },
      "execution_count": 10,
      "outputs": [
        {
          "output_type": "display_data",
          "data": {
            "text/plain": [
              "<Figure size 900x900 with 25 Axes>"
            ],
            "image/png": "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\n"
          },
          "metadata": {}
        }
      ]
    },
    {
      "cell_type": "markdown",
      "source": [
        "## 7. Turn the MNIST train and test datasets into dataloaders using `torch.utils.data.DataLoader`, set the `batch_size=32`."
      ],
      "metadata": {
        "id": "JAPDzW0wxhi3"
      }
    },
    {
      "cell_type": "code",
      "source": [
        "# Create train dataloader\n",
        "from torch.utils.data import DataLoader\n",
        "\n",
        "BATCH_SIZE = 32\n",
        "\n",
        "train_dataloader = DataLoader(dataset=train_data,\n",
        "                batch_size=32,\n",
        "                shuffle=True)\n",
        "\n",
        "test_dataloader = DataLoader(dataset=test_data,\n",
        "                batch_size=32,\n",
        "                shuffle=False)\n",
        "\n",
        "print(f\"DataLoader: {train_dataloader, test_dataloader}\")\n",
        "print(f\"Length of train dataloader: {len(train_dataloader)} batches of {BATCH_SIZE}\")\n",
        "print(f\"Length of test dataloader: {len(test_dataloader)} batches of {BATCH_SIZE}\")"
      ],
      "metadata": {
        "id": "ALA6MPcFbJXQ",
        "outputId": "3e0a37c9-d518-4e5f-d844-046db5a2e811",
        "colab": {
          "base_uri": "https://localhost:8080/"
        }
      },
      "execution_count": 12,
      "outputs": [
        {
          "output_type": "stream",
          "name": "stdout",
          "text": [
            "DataLoader: (<torch.utils.data.dataloader.DataLoader object at 0x7eb197d08510>, <torch.utils.data.dataloader.DataLoader object at 0x7eb19267a0d0>)\n",
            "Length of train dataloader: 1875 batches of 32\n",
            "Length of test dataloader: 313 batches of 32\n"
          ]
        }
      ]
    },
    {
      "cell_type": "markdown",
      "source": [
        "## 8. Recreate `model_2` used in notebook 03 (the same model from the [CNN Explainer website](https://poloclub.github.io/cnn-explainer/), also known as TinyVGG) capable of fitting on the MNIST dataset."
      ],
      "metadata": {
        "id": "bCCVfXk5xjYS"
      }
    },
    {
      "cell_type": "code",
      "source": [
        "from torch import nn\n",
        "class MNIST_model(torch.nn.Module):\n",
        "  \"\"\"Model capable of predicting on MNIST dataset.\n",
        "  \"\"\"\n",
        "  def __init__(self, input_shape: int, hidden_units: int, output_shape: int):\n",
        "    super().__init__()\n",
        "    self.conv_block_1 = nn.Sequential(\n",
        "      nn.Conv2d(in_channels=input_shape,\n",
        "                out_channels=hidden_units,\n",
        "                kernel_size=3,\n",
        "                stride=1,\n",
        "                padding=1),\n",
        "      nn.ReLU(),\n",
        "      nn.Conv2d(in_channels=hidden_units,\n",
        "                out_channels=hidden_units,\n",
        "                kernel_size=3,\n",
        "                stride=1,\n",
        "                padding=1),\n",
        "      nn.ReLU(),\n",
        "      nn.MaxPool2d(kernel_size=2)\n",
        "    )\n",
        "    self.conv_block_2 = nn.Sequential(\n",
        "      nn.Conv2d(in_channels=hidden_units,\n",
        "                out_channels=hidden_units,\n",
        "                kernel_size=3,\n",
        "                stride=1,\n",
        "                padding=1),\n",
        "      nn.ReLU(),\n",
        "      nn.Conv2d(in_channels=hidden_units,\n",
        "                out_channels=hidden_units,\n",
        "                kernel_size=3,\n",
        "                stride=1,\n",
        "                padding=1),\n",
        "      nn.ReLU(),\n",
        "      nn.MaxPool2d(kernel_size=2)\n",
        "    )\n",
        "    self.classifier = nn.Sequential(\n",
        "      nn.Flatten(),\n",
        "      nn.Linear(in_features=hidden_units*7*7,\n",
        "                out_features=output_shape)\n",
        "    )\n",
        "\n",
        "  def forward(self, x):\n",
        "    x = self.conv_block_1(x)\n",
        "    # print(f\"Output shape of conv block 1: {x.shape}\")\n",
        "    x = self.conv_block_2(x)\n",
        "    # print(f\"Output shape of conv block 2: {x.shape}\")\n",
        "    x = self.classifier(x)\n",
        "    # print(f\"Output shape of classifier: {x.shape}\")\n",
        "    return x\n",
        "\n",
        "\n",
        "\n",
        "model = MNIST_model(input_shape=1,\n",
        "                    hidden_units=10,\n",
        "                    output_shape=10).to(device)\n",
        "model"
      ],
      "metadata": {
        "id": "5IKNF22XbKYS",
        "outputId": "af460cfd-6e6e-46f1-a8ea-8938e0ac613e",
        "colab": {
          "base_uri": "https://localhost:8080/"
        }
      },
      "execution_count": 13,
      "outputs": [
        {
          "output_type": "execute_result",
          "data": {
            "text/plain": [
              "MNIST_model(\n",
              "  (conv_block_1): Sequential(\n",
              "    (0): Conv2d(1, 10, kernel_size=(3, 3), stride=(1, 1), padding=(1, 1))\n",
              "    (1): ReLU()\n",
              "    (2): Conv2d(10, 10, kernel_size=(3, 3), stride=(1, 1), padding=(1, 1))\n",
              "    (3): ReLU()\n",
              "    (4): MaxPool2d(kernel_size=2, stride=2, padding=0, dilation=1, ceil_mode=False)\n",
              "  )\n",
              "  (conv_block_2): Sequential(\n",
              "    (0): Conv2d(10, 10, kernel_size=(3, 3), stride=(1, 1), padding=(1, 1))\n",
              "    (1): ReLU()\n",
              "    (2): Conv2d(10, 10, kernel_size=(3, 3), stride=(1, 1), padding=(1, 1))\n",
              "    (3): ReLU()\n",
              "    (4): MaxPool2d(kernel_size=2, stride=2, padding=0, dilation=1, ceil_mode=False)\n",
              "  )\n",
              "  (classifier): Sequential(\n",
              "    (0): Flatten(start_dim=1, end_dim=-1)\n",
              "    (1): Linear(in_features=490, out_features=10, bias=True)\n",
              "  )\n",
              ")"
            ]
          },
          "metadata": {},
          "execution_count": 13
        }
      ]
    },
    {
      "cell_type": "markdown",
      "source": [
        "## 9. Train the model you built in exercise 8. for 5 epochs on CPU and GPU and see how long it takes on each."
      ],
      "metadata": {
        "id": "sf_3zUr7xlhy"
      }
    },
    {
      "cell_type": "code",
      "source": [
        "import requests\n",
        "from pathlib import Path\n",
        "\n",
        "# Download helper functions from Learn PyTorch repo (if not already downloaded)\n",
        "if Path(\"helper_functions.py\").is_file():\n",
        "  print(\"helper_functions.py already exists, skipping download\")\n",
        "else:\n",
        "  print(\"Downloading helper_functions.py\")\n",
        "  # Note: you need the \"raw\" GitHub URL for this to work\n",
        "  request = requests.get(\"https://raw.githubusercontent.com/mrdbourke/pytorch-deep-learning/main/helper_functions.py\")\n",
        "  with open(\"helper_functions.py\", \"wb\") as f:\n",
        "    f.write(request.content)"
      ],
      "metadata": {
        "id": "hlalY7eRpJ-5",
        "outputId": "801dda14-0f31-473f-c6a7-44c4762195e5",
        "colab": {
          "base_uri": "https://localhost:8080/"
        }
      },
      "execution_count": 14,
      "outputs": [
        {
          "output_type": "stream",
          "name": "stdout",
          "text": [
            "Downloading helper_functions.py\n"
          ]
        }
      ]
    },
    {
      "cell_type": "code",
      "source": [
        "# Import accuracy metric\n",
        "from helper_functions import accuracy_fn # Note: could also use torchmetrics.Accuracy(task = 'multiclass', num_classes=len(class_names)).to(device)\n",
        "\n",
        "# Setup loss function and optimizer\n",
        "loss_fn = nn.CrossEntropyLoss()\n",
        "optimizer = torch.optim.SGD(params=model.parameters(), lr=0.1)"
      ],
      "metadata": {
        "id": "a2KL8A2GpK8g"
      },
      "execution_count": 16,
      "outputs": []
    },
    {
      "cell_type": "code",
      "source": [
        "from timeit import default_timer as timer\n",
        "def print_train_time(start: float, end: float, device: torch.device = None):\n",
        "    total_time = end - start\n",
        "    print(f\"Train time on {device}: {total_time:.3f} seconds\")\n",
        "    return total_time"
      ],
      "metadata": {
        "id": "OwXRLZHAowKA"
      },
      "execution_count": 17,
      "outputs": []
    },
    {
      "cell_type": "code",
      "source": [
        "def train_step(model: torch.nn.Module,\n",
        "               data_loader: torch.utils.data.DataLoader,\n",
        "               loss_fn: torch.nn.Module,\n",
        "               optimizer: torch.optim.Optimizer,\n",
        "               accuracy_fn,\n",
        "               device: torch.device = device):\n",
        "    train_loss, train_acc = 0, 0\n",
        "    model.to(device)\n",
        "    for batch, (X, y) in enumerate(data_loader):\n",
        "        # Send data to GPU\n",
        "        X, y = X.to(device), y.to(device)\n",
        "\n",
        "        # 1. Forward pass\n",
        "        y_pred = model(X)\n",
        "\n",
        "        # 2. Calculate loss\n",
        "        loss = loss_fn(y_pred, y)\n",
        "        train_loss += loss\n",
        "        train_acc += accuracy_fn(y_true=y, y_pred=y_pred.argmax(dim=1)) # Go from logits -> pred labels\n",
        "\n",
        "        # 3. Optimizer zero grad\n",
        "        optimizer.zero_grad()\n",
        "\n",
        "        # 4. Loss backward\n",
        "        loss.backward()\n",
        "\n",
        "        # 5. Optimizer step\n",
        "        optimizer.step()\n",
        "\n",
        "    # Calculate loss and accuracy per epoch and print out what's happening\n",
        "    train_loss /= len(data_loader)\n",
        "    train_acc /= len(data_loader)\n",
        "    print(f\"Train loss: {train_loss:.5f} | Train accuracy: {train_acc:.2f}%\")\n",
        "\n",
        "def test_step(data_loader: torch.utils.data.DataLoader,\n",
        "              model: torch.nn.Module,\n",
        "              loss_fn: torch.nn.Module,\n",
        "              accuracy_fn,\n",
        "              device: torch.device = device):\n",
        "    test_loss, test_acc = 0, 0\n",
        "    model.to(device)\n",
        "    model.eval() # put model in eval mode\n",
        "    # Turn on inference context manager\n",
        "    with torch.inference_mode():\n",
        "        for X, y in data_loader:\n",
        "            # Send data to GPU\n",
        "            X, y = X.to(device), y.to(device)\n",
        "\n",
        "            # 1. Forward pass\n",
        "            test_pred = model(X)\n",
        "\n",
        "            # 2. Calculate loss and accuracy\n",
        "            test_loss += loss_fn(test_pred, y)\n",
        "            test_acc += accuracy_fn(y_true=y,\n",
        "                y_pred=test_pred.argmax(dim=1) # Go from logits -> pred labels\n",
        "            )\n",
        "\n",
        "        # Adjust metrics and print out\n",
        "        test_loss /= len(data_loader)\n",
        "        test_acc /= len(data_loader)\n",
        "        print(f\"Test loss: {test_loss:.5f} | Test accuracy: {test_acc:.2f}%\\n\")"
      ],
      "metadata": {
        "id": "KpHLH_M1oHzg"
      },
      "execution_count": 18,
      "outputs": []
    },
    {
      "cell_type": "code",
      "source": [
        "torch.manual_seed(42)\n",
        "\n",
        "# Measure time\n",
        "from timeit import default_timer as timer\n",
        "from tqdm.auto import tqdm\n",
        "train_time_start_model = timer()\n",
        "\n",
        "# Train and test model\n",
        "epochs = 5\n",
        "for epoch in tqdm(range(epochs)):\n",
        "    print(f\"Epoch: {epoch}\\n---------\")\n",
        "    train_step(data_loader=train_dataloader,\n",
        "        model=model,\n",
        "        loss_fn=loss_fn,\n",
        "        optimizer=optimizer,\n",
        "        accuracy_fn=accuracy_fn,\n",
        "        device=device\n",
        "    )\n",
        "    test_step(data_loader=test_dataloader,\n",
        "        model=model,\n",
        "        loss_fn=loss_fn,\n",
        "        accuracy_fn=accuracy_fn,\n",
        "        device=device\n",
        "    )\n",
        "\n",
        "train_time_end_model = timer()\n",
        "total_train_time_model = print_train_time(start=train_time_start_model, end=train_time_end_model, device=device)"
      ],
      "metadata": {
        "id": "jSo6vVWFbNLD",
        "outputId": "d2bf79f9-8003-49fc-eb9b-317ea7cc0454",
        "colab": {
          "base_uri": "https://localhost:8080/",
          "height": 518,
          "referenced_widgets": [
            "9c260b076bd2413888511f3086a49fa3",
            "0a2dacfeb8df4679b7d4025d4b6cf177",
            "b323c501b8bc4bf1aebf04a3bdd80fb1",
            "fabf6b83b68c40e88b552ba59730aaee",
            "fec4004c838c49c79db2d9839ea42e24",
            "427ee03143134bcd8e5df7574161ae51",
            "49c3e44908684cbeae8caba907fe47ac",
            "ab5b3febb0b04e0ab4df916cfc2556f2",
            "d6460abc55214ee0bc1253d0d30a51d9",
            "27f4d55b4967431d9efb3ca82cd0dfbe",
            "bbd64b972f1e41d89f6157c5adfad5a5"
          ]
        }
      },
      "execution_count": 20,
      "outputs": [
        {
          "output_type": "display_data",
          "data": {
            "text/plain": [
              "  0%|          | 0/5 [00:00<?, ?it/s]"
            ],
            "application/vnd.jupyter.widget-view+json": {
              "version_major": 2,
              "version_minor": 0,
              "model_id": "9c260b076bd2413888511f3086a49fa3"
            }
          },
          "metadata": {}
        },
        {
          "output_type": "stream",
          "name": "stdout",
          "text": [
            "Epoch: 0\n",
            "---------\n",
            "Train loss: 0.32256 | Train accuracy: 89.27%\n",
            "Test loss: 0.07053 | Test accuracy: 98.00%\n",
            "\n",
            "Epoch: 1\n",
            "---------\n",
            "Train loss: 0.07543 | Train accuracy: 97.65%\n",
            "Test loss: 0.05963 | Test accuracy: 98.16%\n",
            "\n",
            "Epoch: 2\n",
            "---------\n",
            "Train loss: 0.05795 | Train accuracy: 98.19%\n",
            "Test loss: 0.04960 | Test accuracy: 98.22%\n",
            "\n",
            "Epoch: 3\n",
            "---------\n",
            "Train loss: 0.05050 | Train accuracy: 98.45%\n",
            "Test loss: 0.04938 | Test accuracy: 98.48%\n",
            "\n",
            "Epoch: 4\n",
            "---------\n",
            "Train loss: 0.04366 | Train accuracy: 98.68%\n",
            "Test loss: 0.04170 | Test accuracy: 98.57%\n",
            "\n",
            "Train time on cpu: 287.135 seconds\n"
          ]
        }
      ]
    },
    {
      "cell_type": "markdown",
      "source": [
        "## 10. Make predictions using your trained model and visualize at least 5 of them comparing the prediciton to the target label."
      ],
      "metadata": {
        "id": "w1CsHhPpxp1w"
      }
    },
    {
      "cell_type": "code",
      "source": [
        "def make_predictions(model: torch.nn.Module, data: list, device: torch.device = device):\n",
        "    pred_probs = []\n",
        "    model.eval()\n",
        "    with torch.inference_mode():\n",
        "        for sample in data:\n",
        "            # Prepare sample\n",
        "            sample = torch.unsqueeze(sample, dim=0).to(device) # Add an extra dimension and send sample to device\n",
        "\n",
        "            # Forward pass (model outputs raw logit)\n",
        "            pred_logit = model(sample)\n",
        "\n",
        "            # Get prediction probability (logit -> prediction probability)\n",
        "            pred_prob = torch.softmax(pred_logit.squeeze(), dim=0) # note: perform softmax on the \"logits\" dimension, not \"batch\" dimension (in this case we have a batch size of 1, so can perform on dim=0)\n",
        "\n",
        "            # Get pred_prob off GPU for further calculations\n",
        "            pred_probs.append(pred_prob.cpu())\n",
        "\n",
        "    # Stack the pred_probs to turn list into a tensor\n",
        "    return torch.stack(pred_probs)"
      ],
      "metadata": {
        "id": "_YGgZvSobNxu"
      },
      "execution_count": 21,
      "outputs": []
    },
    {
      "cell_type": "code",
      "source": [
        "import random\n",
        "random.seed(42)\n",
        "test_samples = []\n",
        "test_labels = []\n",
        "for sample, label in random.sample(list(test_data), k=9):\n",
        "    test_samples.append(sample)\n",
        "    test_labels.append(label)\n",
        "\n",
        "# View the first test sample shape and label\n",
        "print(f\"Test sample image shape: {test_samples[0].shape}\\nTest sample label: {test_labels[0]} ({train_data.classes[test_labels[0]]})\")"
      ],
      "metadata": {
        "id": "tNLvTTTmy3Bi",
        "outputId": "e9596073-515f-4cc7-c376-e7b312756324",
        "colab": {
          "base_uri": "https://localhost:8080/"
        }
      },
      "execution_count": 23,
      "outputs": [
        {
          "output_type": "stream",
          "name": "stdout",
          "text": [
            "Test sample image shape: torch.Size([1, 28, 28])\n",
            "Test sample label: 2 (2 - two)\n"
          ]
        }
      ]
    },
    {
      "cell_type": "code",
      "source": [
        "# Make predictions on test samples with model 2\n",
        "pred_probs= make_predictions(model=model,\n",
        "                             data=test_samples)\n",
        "\n",
        "# View first two prediction probabilities list\n",
        "pred_probs[:2]"
      ],
      "metadata": {
        "id": "5q18LCb6zCDC",
        "outputId": "dc14433e-7d17-4466-f746-a1c7fbecd29b",
        "colab": {
          "base_uri": "https://localhost:8080/"
        }
      },
      "execution_count": 25,
      "outputs": [
        {
          "output_type": "execute_result",
          "data": {
            "text/plain": [
              "tensor([[6.2211e-09, 6.5910e-09, 9.9998e-01, 4.3989e-08, 1.1155e-16, 5.5308e-16,\n",
              "         1.7285e-12, 2.3998e-08, 2.0469e-05, 1.0216e-12],\n",
              "        [1.8811e-07, 9.8085e-01, 5.0162e-05, 2.0694e-05, 1.1228e-04, 1.1118e-04,\n",
              "         1.4180e-04, 2.9401e-04, 1.7491e-02, 9.3215e-04]])"
            ]
          },
          "metadata": {},
          "execution_count": 25
        }
      ]
    },
    {
      "cell_type": "code",
      "source": [
        "# Turn the prediction probabilities into prediction labels by taking the argmax()\n",
        "pred_classes = pred_probs.argmax(dim=1)\n",
        "pred_classes"
      ],
      "metadata": {
        "id": "OwEjI6KJzLbi",
        "outputId": "52f8679d-0d0f-4c80-8b6d-268cc0f33b6e",
        "colab": {
          "base_uri": "https://localhost:8080/"
        }
      },
      "execution_count": 26,
      "outputs": [
        {
          "output_type": "execute_result",
          "data": {
            "text/plain": [
              "tensor([2, 1, 2, 4, 6, 6, 4, 9, 1])"
            ]
          },
          "metadata": {},
          "execution_count": 26
        }
      ]
    },
    {
      "cell_type": "code",
      "source": [
        "# Plot predictions\n",
        "plt.figure(figsize=(9, 9))\n",
        "nrows = 3\n",
        "ncols = 3\n",
        "for i, sample in enumerate(test_samples):\n",
        "  # Create a subplot\n",
        "  plt.subplot(nrows, ncols, i+1)\n",
        "\n",
        "  # Plot the target image\n",
        "  plt.imshow(sample.squeeze(), cmap=\"gray\")\n",
        "\n",
        "  # Find the prediction label (in text form, e.g. \"Sandal\")\n",
        "  pred_label = train_data.classes[pred_classes[i]]\n",
        "\n",
        "  # Get the truth label (in text form, e.g. \"T-shirt\")\n",
        "  truth_label = train_data.classes[test_labels[i]]\n",
        "\n",
        "  # Create the title text of the plot\n",
        "  title_text = f\"Pred: {pred_label} | Truth: {truth_label}\"\n",
        "\n",
        "  # Check for equality and change title colour accordingly\n",
        "  if pred_label == truth_label:\n",
        "      plt.title(title_text, fontsize=12, c=\"g\")\n",
        "  else:\n",
        "      plt.title(title_text, fontsize=12, c=\"r\")\n",
        "  plt.axis(False)"
      ],
      "metadata": {
        "id": "XixKrKLYzTGy",
        "outputId": "e0b1106b-0ef9-45d0-f4c8-aa62e838c3b7",
        "colab": {
          "base_uri": "https://localhost:8080/",
          "height": 752
        }
      },
      "execution_count": 35,
      "outputs": [
        {
          "output_type": "display_data",
          "data": {
            "text/plain": [
              "<Figure size 900x900 with 9 Axes>"
            ],
            "image/png": "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\n"
          },
          "metadata": {}
        }
      ]
    },
    {
      "cell_type": "markdown",
      "source": [
        "## 11. Plot a confusion matrix comparing your model's predictions to the truth labels."
      ],
      "metadata": {
        "id": "qQwzqlBWxrpG"
      }
    },
    {
      "cell_type": "code",
      "source": [
        "# Import tqdm for progress bar\n",
        "from tqdm.auto import tqdm\n",
        "\n",
        "# 1. Make predictions with trained model\n",
        "y_preds = []\n",
        "model.eval()\n",
        "with torch.inference_mode():\n",
        "  for X, y in tqdm(test_dataloader, desc=\"Making predictions\"):\n",
        "    # Send data and targets to target device\n",
        "    X, y = X.to(device), y.to(device)\n",
        "    # Do the forward pass\n",
        "    y_logit = model(X)\n",
        "    # Turn predictions from logits -> prediction probabilities -> predictions labels\n",
        "    y_pred = torch.softmax(y_logit, dim=1).argmax(dim=1) # note: perform softmax on the \"logits\" dimension, not \"batch\" dimension (in this case we have a batch size of 32, so can perform on dim=1)\n",
        "    # Put predictions on CPU for evaluation\n",
        "    y_preds.append(y_pred.cpu())\n",
        "# Concatenate list of predictions into a tensor\n",
        "y_pred_tensor = torch.cat(y_preds)"
      ],
      "metadata": {
        "id": "vSrXiT_AbQ6e",
        "outputId": "869e79ec-13fb-48fd-d1fe-f08c4ec3b1c5",
        "colab": {
          "base_uri": "https://localhost:8080/",
          "height": 49,
          "referenced_widgets": [
            "aed12194459c494c9bd8520f93bc1b9a",
            "fcf6e39c16ad4c959c3900bb8f725940",
            "b66553d9fb28465794b65a70b9b13ead",
            "1c49c796fb3b4d92b3f3ea683ececbe4",
            "eb784a7e242245b39a8c072a129ed988",
            "26624f922d294478a8c2e5acebdb4d40",
            "38e9b540bf4f4754af45c44fb33da013",
            "1480cf36ea2b4b67b38d64cd3c54c82c",
            "78001126bc904392bceed7a52ecbcc15",
            "34bbc8c2b6b542109bab3e282f536428",
            "9493fe4689864fb79bb20dacab0d0390"
          ]
        }
      },
      "execution_count": 38,
      "outputs": [
        {
          "output_type": "display_data",
          "data": {
            "text/plain": [
              "Making predictions:   0%|          | 0/313 [00:00<?, ?it/s]"
            ],
            "application/vnd.jupyter.widget-view+json": {
              "version_major": 2,
              "version_minor": 0,
              "model_id": "aed12194459c494c9bd8520f93bc1b9a"
            }
          },
          "metadata": {}
        }
      ]
    },
    {
      "cell_type": "code",
      "source": [
        "# See if torchmetrics exists, if not, install it\n",
        "try:\n",
        "    import torchmetrics, mlxtend\n",
        "    print(f\"mlxtend version: {mlxtend.__version__}\")\n",
        "    assert int(mlxtend.__version__.split(\".\")[1]) >= 19, \"mlxtend verison should be 0.19.0 or higher\"\n",
        "except:\n",
        "    !pip install -q torchmetrics -U mlxtend\n",
        "    import torchmetrics, mlxtend\n",
        "    print(f\"mlxtend version: {mlxtend.__version__}\")"
      ],
      "metadata": {
        "id": "hHXW-bkl2Kxz",
        "outputId": "7b7dec1a-7b63-4a06-dae1-990868163404",
        "colab": {
          "base_uri": "https://localhost:8080/"
        }
      },
      "execution_count": 39,
      "outputs": [
        {
          "output_type": "stream",
          "name": "stdout",
          "text": [
            "\u001b[2K   \u001b[90m━━━━━━━━━━━━━━━━━━━━━━━━━━━━━━━━━━━━━━━━\u001b[0m \u001b[32m960.9/960.9 kB\u001b[0m \u001b[31m15.1 MB/s\u001b[0m eta \u001b[36m0:00:00\u001b[0m\n",
            "\u001b[2K   \u001b[90m━━━━━━━━━━━━━━━━━━━━━━━━━━━━━━━━━━━━━━━━\u001b[0m \u001b[32m363.4/363.4 MB\u001b[0m \u001b[31m1.4 MB/s\u001b[0m eta \u001b[36m0:00:00\u001b[0m\n",
            "\u001b[2K   \u001b[90m━━━━━━━━━━━━━━━━━━━━━━━━━━━━━━━━━━━━━━━━\u001b[0m \u001b[32m13.8/13.8 MB\u001b[0m \u001b[31m88.0 MB/s\u001b[0m eta \u001b[36m0:00:00\u001b[0m\n",
            "\u001b[2K   \u001b[90m━━━━━━━━━━━━━━━━━━━━━━━━━━━━━━━━━━━━━━━━\u001b[0m \u001b[32m24.6/24.6 MB\u001b[0m \u001b[31m71.6 MB/s\u001b[0m eta \u001b[36m0:00:00\u001b[0m\n",
            "\u001b[2K   \u001b[90m━━━━━━━━━━━━━━━━━━━━━━━━━━━━━━━━━━━━━━━━\u001b[0m \u001b[32m883.7/883.7 kB\u001b[0m \u001b[31m42.7 MB/s\u001b[0m eta \u001b[36m0:00:00\u001b[0m\n",
            "\u001b[2K   \u001b[90m━━━━━━━━━━━━━━━━━━━━━━━━━━━━━━━━━━━━━━━━\u001b[0m \u001b[32m664.8/664.8 MB\u001b[0m \u001b[31m1.3 MB/s\u001b[0m eta \u001b[36m0:00:00\u001b[0m\n",
            "\u001b[2K   \u001b[90m━━━━━━━━━━━━━━━━━━━━━━━━━━━━━━━━━━━━━━━━\u001b[0m \u001b[32m211.5/211.5 MB\u001b[0m \u001b[31m2.0 MB/s\u001b[0m eta \u001b[36m0:00:00\u001b[0m\n",
            "\u001b[2K   \u001b[90m━━━━━━━━━━━━━━━━━━━━━━━━━━━━━━━━━━━━━━━━\u001b[0m \u001b[32m56.3/56.3 MB\u001b[0m \u001b[31m13.1 MB/s\u001b[0m eta \u001b[36m0:00:00\u001b[0m\n",
            "\u001b[2K   \u001b[90m━━━━━━━━━━━━━━━━━━━━━━━━━━━━━━━━━━━━━━━━\u001b[0m \u001b[32m127.9/127.9 MB\u001b[0m \u001b[31m6.9 MB/s\u001b[0m eta \u001b[36m0:00:00\u001b[0m\n",
            "\u001b[2K   \u001b[90m━━━━━━━━━━━━━━━━━━━━━━━━━━━━━━━━━━━━━━━━\u001b[0m \u001b[32m207.5/207.5 MB\u001b[0m \u001b[31m5.5 MB/s\u001b[0m eta \u001b[36m0:00:00\u001b[0m\n",
            "\u001b[2K   \u001b[90m━━━━━━━━━━━━━━━━━━━━━━━━━━━━━━━━━━━━━━━━\u001b[0m \u001b[32m21.1/21.1 MB\u001b[0m \u001b[31m80.3 MB/s\u001b[0m eta \u001b[36m0:00:00\u001b[0m\n",
            "\u001b[?25hmlxtend version: 0.23.4\n"
          ]
        }
      ]
    },
    {
      "cell_type": "code",
      "source": [
        "# Import mlxtend upgraded version\n",
        "import mlxtend\n",
        "print(mlxtend.__version__)"
      ],
      "metadata": {
        "id": "f_IQudnY2OT6",
        "outputId": "44c8fdc0-d8e4-4ee3-de00-971a3fa0a8fd",
        "colab": {
          "base_uri": "https://localhost:8080/"
        }
      },
      "execution_count": 45,
      "outputs": [
        {
          "output_type": "stream",
          "name": "stdout",
          "text": [
            "0.23.4\n"
          ]
        }
      ]
    },
    {
      "cell_type": "code",
      "source": [
        "from torchmetrics import ConfusionMatrix\n",
        "from mlxtend.plotting import plot_confusion_matrix\n",
        "\n",
        "# Setup confusion matrix instance and compare predictions to targets\n",
        "confmat = ConfusionMatrix(num_classes=len(train_data.classes), task='multiclass')\n",
        "confmat_tensor = confmat(preds=y_pred_tensor,\n",
        "                         target=test_data.targets)\n",
        "\n",
        "# Plot the confusion matrix\n",
        "fig, ax = plot_confusion_matrix(\n",
        "    conf_mat=confmat_tensor.numpy(), # matplotlib likes working with NumPy\n",
        "    class_names=train_data.classes, # turn the row and column labels into class names\n",
        "    figsize=(10, 7)\n",
        ");"
      ],
      "metadata": {
        "id": "p93p2qhx268T",
        "outputId": "5f34febb-b056-47db-d31b-da2d859a2c74",
        "colab": {
          "base_uri": "https://localhost:8080/",
          "height": 660
        }
      },
      "execution_count": 46,
      "outputs": [
        {
          "output_type": "display_data",
          "data": {
            "text/plain": [
              "<Figure size 1000x700 with 1 Axes>"
            ],
            "image/png": "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\n"
          },
          "metadata": {}
        }
      ]
    },
    {
      "cell_type": "markdown",
      "source": [
        "## 12. Create a random tensor of shape `[1, 3, 64, 64]` and pass it through a `nn.Conv2d()` layer with various hyperparameter settings (these can be any settings you choose), what do you notice if the `kernel_size` parameter goes up and down?"
      ],
      "metadata": {
        "id": "lj6bDhoWxt2y"
      }
    },
    {
      "cell_type": "code",
      "source": [
        "random_tensor = torch.rand([1, 3, 64, 64])\n",
        "\n",
        "conv_layer = nn.Conv2d(in_channels=3,\n",
        "             out_channels=64,\n",
        "             kernel_size=3,\n",
        "             stride=2,\n",
        "             padding=1)\n",
        "\n",
        "print(f\"Random tensor original shape: {random_tensor.shape}\")\n",
        "random_tensor_through_conv_layer = conv_layer(random_tensor)\n",
        "print(f\"Random tensor through conv layer shape: {random_tensor_through_conv_layer.shape}\")"
      ],
      "metadata": {
        "id": "leCTsqtSbR5P",
        "outputId": "633f4f2e-0d33-4ed6-e3a6-6b351bb46f99",
        "colab": {
          "base_uri": "https://localhost:8080/"
        }
      },
      "execution_count": 47,
      "outputs": [
        {
          "output_type": "stream",
          "name": "stdout",
          "text": [
            "Random tensor original shape: torch.Size([1, 3, 64, 64])\n",
            "Random tensor through conv layer shape: torch.Size([1, 64, 32, 32])\n"
          ]
        }
      ]
    },
    {
      "cell_type": "markdown",
      "source": [
        "## 13. Use a model similar to the trained `model_2` from notebook 03 to make predictions on the test [`torchvision.datasets.FashionMNIST`](https://pytorch.org/vision/main/generated/torchvision.datasets.FashionMNIST.html) dataset.\n",
        "* Then plot some predictions where the model was wrong alongside what the label of the image should've been.\n",
        "* After visualing these predictions do you think it's more of a modelling error or a data error?\n",
        "* As in, could the model do better or are the labels of the data too close to each other (e.g. a \"Shirt\" label is too close to \"T-shirt/top\")?"
      ],
      "metadata": {
        "id": "VHS20cNTxwSi"
      }
    },
    {
      "cell_type": "code",
      "source": [
        "# Download FashionMNIST train & test\n",
        "from torchvision import datasets\n",
        "from torchvision import transforms\n",
        "\n",
        "fashion_mnist_train = datasets.FashionMNIST(root=\"data\",\n",
        "                       download=True,\n",
        "                       train=True,\n",
        "                       transform=transforms.ToTensor())\n",
        "\n",
        "fashion_mnist_test = datasets.FashionMNIST(root=\"data\",\n",
        "                       train=False,\n",
        "                       download=True,\n",
        "                       transform=transforms.ToTensor())\n",
        "\n",
        "len(fashion_mnist_train), len(fashion_mnist_test)"
      ],
      "metadata": {
        "id": "78a8LjtdbSZj",
        "outputId": "251a8c48-efd7-404a-b1ab-6f4f60ff3eda",
        "colab": {
          "base_uri": "https://localhost:8080/"
        }
      },
      "execution_count": 48,
      "outputs": [
        {
          "output_type": "stream",
          "name": "stderr",
          "text": [
            "100%|██████████| 26.4M/26.4M [00:01<00:00, 17.7MB/s]\n",
            "100%|██████████| 29.5k/29.5k [00:00<00:00, 300kB/s]\n",
            "100%|██████████| 4.42M/4.42M [00:00<00:00, 5.53MB/s]\n",
            "100%|██████████| 5.15k/5.15k [00:00<00:00, 8.53MB/s]\n"
          ]
        },
        {
          "output_type": "execute_result",
          "data": {
            "text/plain": [
              "(60000, 10000)"
            ]
          },
          "metadata": {},
          "execution_count": 48
        }
      ]
    },
    {
      "cell_type": "code",
      "source": [
        "# Get the class names of the Fashion MNIST dataset\n",
        "fashion_mnist_class_names = fashion_mnist_train.classes\n",
        "fashion_mnist_class_names"
      ],
      "metadata": {
        "id": "TQLC58lD4cB0",
        "outputId": "6bbe4d6f-fb3b-4bf8-df87-9f916cb2813d",
        "colab": {
          "base_uri": "https://localhost:8080/"
        }
      },
      "execution_count": 49,
      "outputs": [
        {
          "output_type": "execute_result",
          "data": {
            "text/plain": [
              "['T-shirt/top',\n",
              " 'Trouser',\n",
              " 'Pullover',\n",
              " 'Dress',\n",
              " 'Coat',\n",
              " 'Sandal',\n",
              " 'Shirt',\n",
              " 'Sneaker',\n",
              " 'Bag',\n",
              " 'Ankle boot']"
            ]
          },
          "metadata": {},
          "execution_count": 49
        }
      ]
    },
    {
      "cell_type": "code",
      "source": [
        "# Turn FashionMNIST datasets into dataloaders\n",
        "from torch.utils.data import DataLoader\n",
        "\n",
        "fashion_mnist_train_dataloader = DataLoader(fashion_mnist_train, batch_size=32, shuffle=True)\n",
        "\n",
        "fashion_mnist_test_dataloader = DataLoader(fashion_mnist_test, batch_size=32, shuffle=False)\n",
        "\n",
        "len(fashion_mnist_train_dataloader), len(fashion_mnist_test_dataloader)\n",
        ""
      ],
      "metadata": {
        "id": "bbb3OSPN4iBq",
        "outputId": "54be93a5-e3f7-44ba-aa35-6bfe9f3610a7",
        "colab": {
          "base_uri": "https://localhost:8080/"
        }
      },
      "execution_count": 50,
      "outputs": [
        {
          "output_type": "execute_result",
          "data": {
            "text/plain": [
              "(1875, 313)"
            ]
          },
          "metadata": {},
          "execution_count": 50
        }
      ]
    },
    {
      "cell_type": "code",
      "source": [
        "# model_2 is the same architecture as MNIST_model\n",
        "model_2 = MNIST_model(input_shape=1,\n",
        "            hidden_units=10,\n",
        "            output_shape=10).to(device)\n",
        "model_2"
      ],
      "metadata": {
        "id": "qjcDa6Cu4n0q",
        "outputId": "4e7c8747-6e57-4019-87e9-928bb05d95a3",
        "colab": {
          "base_uri": "https://localhost:8080/"
        }
      },
      "execution_count": 51,
      "outputs": [
        {
          "output_type": "execute_result",
          "data": {
            "text/plain": [
              "MNIST_model(\n",
              "  (conv_block_1): Sequential(\n",
              "    (0): Conv2d(1, 10, kernel_size=(3, 3), stride=(1, 1), padding=(1, 1))\n",
              "    (1): ReLU()\n",
              "    (2): Conv2d(10, 10, kernel_size=(3, 3), stride=(1, 1), padding=(1, 1))\n",
              "    (3): ReLU()\n",
              "    (4): MaxPool2d(kernel_size=2, stride=2, padding=0, dilation=1, ceil_mode=False)\n",
              "  )\n",
              "  (conv_block_2): Sequential(\n",
              "    (0): Conv2d(10, 10, kernel_size=(3, 3), stride=(1, 1), padding=(1, 1))\n",
              "    (1): ReLU()\n",
              "    (2): Conv2d(10, 10, kernel_size=(3, 3), stride=(1, 1), padding=(1, 1))\n",
              "    (3): ReLU()\n",
              "    (4): MaxPool2d(kernel_size=2, stride=2, padding=0, dilation=1, ceil_mode=False)\n",
              "  )\n",
              "  (classifier): Sequential(\n",
              "    (0): Flatten(start_dim=1, end_dim=-1)\n",
              "    (1): Linear(in_features=490, out_features=10, bias=True)\n",
              "  )\n",
              ")"
            ]
          },
          "metadata": {},
          "execution_count": 51
        }
      ]
    },
    {
      "cell_type": "code",
      "source": [
        "# Setup loss and optimizer\n",
        "from torch import nn\n",
        "loss_fn = nn.CrossEntropyLoss()\n",
        "optimizer = torch.optim.SGD(model_2.parameters(), lr=0.01)"
      ],
      "metadata": {
        "id": "yYkW7btc4qAq"
      },
      "execution_count": 52,
      "outputs": []
    },
    {
      "cell_type": "code",
      "source": [
        "torch.manual_seed(42)\n",
        "\n",
        "# Measure time\n",
        "from timeit import default_timer as timer\n",
        "from tqdm.auto import tqdm\n",
        "train_time_start_model = timer()\n",
        "\n",
        "# Train and test model\n",
        "epochs = 5\n",
        "for epoch in tqdm(range(epochs)):\n",
        "    print(f\"Epoch: {epoch}\\n---------\")\n",
        "    train_step(data_loader=fashion_mnist_train_dataloader,\n",
        "        model=model_2,\n",
        "        loss_fn=loss_fn,\n",
        "        optimizer=optimizer,\n",
        "        accuracy_fn=accuracy_fn,\n",
        "        device=device\n",
        "    )\n",
        "    test_step(data_loader=fashion_mnist_test_dataloader,\n",
        "        model=model_2,\n",
        "        loss_fn=loss_fn,\n",
        "        accuracy_fn=accuracy_fn,\n",
        "        device=device\n",
        "    )\n",
        "\n",
        "train_time_end_model = timer()\n",
        "total_train_time_model = print_train_time(start=train_time_start_model, end=train_time_end_model, device=device)"
      ],
      "metadata": {
        "id": "BJhUWnoF4rRj",
        "outputId": "df3fc3b2-cf20-444c-e952-7a778c4362ac",
        "colab": {
          "base_uri": "https://localhost:8080/",
          "height": 518,
          "referenced_widgets": [
            "75e3fbcb870b44f08fe41b05b9b91ad0",
            "28c3a080e9ee403393cc3af8adc11105",
            "998b45ffbfa7406a8f20353342effa4b",
            "1c2fbeda1e61462bb07e39c5643a4e03",
            "c6faad6a0b1448e185c6946842fbe4ac",
            "6cdeb6c2d604402c9fbe6df5c5e71a46",
            "ce0150b7659b46e1b9962bae33ca6dd5",
            "b25badd2dcd74e168188fe16f24db8fe",
            "55c026c7694e4628a77ec80b0cfc2258",
            "2c57685367b04258bd34fab5109463ca",
            "ee3b83c67bd546e2ac72db71242b8648"
          ]
        }
      },
      "execution_count": 56,
      "outputs": [
        {
          "output_type": "display_data",
          "data": {
            "text/plain": [
              "  0%|          | 0/5 [00:00<?, ?it/s]"
            ],
            "application/vnd.jupyter.widget-view+json": {
              "version_major": 2,
              "version_minor": 0,
              "model_id": "75e3fbcb870b44f08fe41b05b9b91ad0"
            }
          },
          "metadata": {}
        },
        {
          "output_type": "stream",
          "name": "stdout",
          "text": [
            "Epoch: 0\n",
            "---------\n",
            "Train loss: 0.81621 | Train accuracy: 70.69%\n",
            "Test loss: 0.57511 | Test accuracy: 79.47%\n",
            "\n",
            "Epoch: 1\n",
            "---------\n",
            "Train loss: 0.51429 | Train accuracy: 81.42%\n",
            "Test loss: 0.50004 | Test accuracy: 81.75%\n",
            "\n",
            "Epoch: 2\n",
            "---------\n",
            "Train loss: 0.44705 | Train accuracy: 83.87%\n",
            "Test loss: 0.44550 | Test accuracy: 84.08%\n",
            "\n",
            "Epoch: 3\n",
            "---------\n",
            "Train loss: 0.41383 | Train accuracy: 85.08%\n",
            "Test loss: 0.41308 | Test accuracy: 85.29%\n",
            "\n",
            "Epoch: 4\n",
            "---------\n",
            "Train loss: 0.39085 | Train accuracy: 85.92%\n",
            "Test loss: 0.39783 | Test accuracy: 86.00%\n",
            "\n",
            "Train time on cpu: 281.304 seconds\n"
          ]
        }
      ]
    },
    {
      "cell_type": "code",
      "source": [
        "\n",
        "# Make predictions with trained model_2\n",
        "test_preds = []\n",
        "model_2.eval()\n",
        "with torch.inference_mode():\n",
        "  for X_test, y_test in tqdm(fashion_mnist_test_dataloader):\n",
        "    y_logits = model_2(X_test.to(device))\n",
        "    y_pred_probs = torch.softmax(y_logits, dim=1)\n",
        "    y_pred_labels = torch.argmax(y_pred_probs, dim=1)\n",
        "    test_preds.append(y_pred_labels)\n",
        "test_preds = torch.cat(test_preds).cpu() # matplotlib likes CPU\n",
        "test_preds[:10], len(test_preds)\n",
        ""
      ],
      "metadata": {
        "id": "1bhvQ7yM5dm7",
        "outputId": "33c6349b-7cc8-4e51-862a-1f962d496e08",
        "colab": {
          "base_uri": "https://localhost:8080/",
          "height": 67,
          "referenced_widgets": [
            "85647a74aeb844e685e98d6898e71ec5",
            "6317822c752d4b5fa7855eaf2e60eb3c",
            "0ef5067f8d30412287577c515ddc257b",
            "d02a7c582a1049eb8015528d93d6be11",
            "1288bb2d3572489589f661e3da6c2b04",
            "79b88fbd6350420d980f93036e08f2a9",
            "07d40f3b4efe444e95c384fc9cafe3f4",
            "b7b794e74c3a428fbf786cb7473ab55e",
            "c99622318d624ee586c72b5da1617742",
            "f870f5e1eeb346228d8bced92ca58012",
            "8798bb4fe0434d02a7f707a05ce8923d"
          ]
        }
      },
      "execution_count": 57,
      "outputs": [
        {
          "output_type": "display_data",
          "data": {
            "text/plain": [
              "  0%|          | 0/313 [00:00<?, ?it/s]"
            ],
            "application/vnd.jupyter.widget-view+json": {
              "version_major": 2,
              "version_minor": 0,
              "model_id": "85647a74aeb844e685e98d6898e71ec5"
            }
          },
          "metadata": {}
        },
        {
          "output_type": "execute_result",
          "data": {
            "text/plain": [
              "(tensor([9, 2, 1, 1, 0, 1, 4, 6, 5, 7]), 10000)"
            ]
          },
          "metadata": {},
          "execution_count": 57
        }
      ]
    },
    {
      "cell_type": "code",
      "source": [
        "# Get wrong prediction indexes\n",
        "import numpy as np\n",
        "wrong_pred_indexes = np.where(test_preds != fashion_mnist_test.targets)[0]\n",
        "len(wrong_pred_indexes)"
      ],
      "metadata": {
        "id": "1YnIvn9Z55Vc",
        "outputId": "8ee9a672-dc16-4e4b-a656-2cae9bb2355b",
        "colab": {
          "base_uri": "https://localhost:8080/"
        }
      },
      "execution_count": 58,
      "outputs": [
        {
          "output_type": "execute_result",
          "data": {
            "text/plain": [
              "1401"
            ]
          },
          "metadata": {},
          "execution_count": 58
        }
      ]
    },
    {
      "cell_type": "code",
      "source": [
        "# Select random 9 wrong predictions and plot them\n",
        "import random\n",
        "random_selection = random.sample(list(wrong_pred_indexes), k=9)\n",
        "\n",
        "plt.figure(figsize=(10, 10))\n",
        "for i, idx in enumerate(random_selection):\n",
        "  # Get true and pred labels\n",
        "  true_label = fashion_mnist_class_names[fashion_mnist_test[idx][1]]\n",
        "  pred_label = fashion_mnist_class_names[test_preds[idx]]\n",
        "\n",
        "  # Plot the wrong prediction with its original label\n",
        "  plt.subplot(3, 3, i+1)\n",
        "  plt.imshow(fashion_mnist_test[idx][0].squeeze(), cmap=\"gray\")\n",
        "  plt.title(f\"True: {true_label} | Pred: {pred_label}\", c=\"r\")\n",
        "  plt.axis(False);"
      ],
      "metadata": {
        "id": "ntJzgXHH56AK",
        "outputId": "acf954ab-d974-4b60-874e-bc6ebe8e8073",
        "colab": {
          "base_uri": "https://localhost:8080/",
          "height": 829
        }
      },
      "execution_count": 62,
      "outputs": [
        {
          "output_type": "display_data",
          "data": {
            "text/plain": [
              "<Figure size 1000x1000 with 9 Axes>"
            ],
            "image/png": "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\n"
          },
          "metadata": {}
        }
      ]
    }
  ]
}
